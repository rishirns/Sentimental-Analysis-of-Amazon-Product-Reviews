{
 "cells": [
  {
   "cell_type": "code",
   "execution_count": 1,
   "metadata": {
    "collapsed": true
   },
   "outputs": [],
   "source": [
    "def document_features(document, word_features):\n",
    "    document_words = set(document)\n",
    "    features = {}\n",
    "    for word in word_features:\n",
    "        features['contains({})'.format(word)] = (word in document_words)\n",
    "    return features\n",
    "\n",
    "def remove_empty_lines(filename):\n",
    "    \"\"\"Overwrite the file, removing empty lines and lines that contain only whitespace.\"\"\"\n",
    "    with open(filename, 'r+') as f:\n",
    "        lines = f.readlines()\n",
    "        f.seek(0)\n",
    "        f.writelines(line for line in lines if line.strip())\n",
    "        f.truncate()"
   ]
  },
  {
   "cell_type": "code",
   "execution_count": 2,
   "metadata": {
    "collapsed": true
   },
   "outputs": [],
   "source": [
    "import re\n",
    "import pprint\n",
    "import os\n",
    "import random\n",
    "import nltk\n",
    "import yaml\n",
    "import collections\n",
    "\n",
    "from nltk.corpus import stopwords\n",
    "from sklearn.feature_extraction.text import CountVectorizer \n",
    "from nltk import FreqDist\n",
    "from nltk.collocations import *\n",
    "from nltk.metrics import ConfusionMatrix\n",
    "\n",
    "from collections import defaultdict\n",
    "from collections import Counter"
   ]
  },
  {
   "cell_type": "code",
   "execution_count": 3,
   "metadata": {
    "collapsed": true
   },
   "outputs": [],
   "source": [
    "import nltk\n",
    "from nltk.corpus import sentence_polarity\n",
    "from nltk.tokenize import word_tokenize\n",
    "from nltk.tokenize.moses import MosesDetokenizer\n",
    "import random"
   ]
  },
  {
   "cell_type": "code",
   "execution_count": 58,
   "metadata": {
    "collapsed": true
   },
   "outputs": [],
   "source": [
    "sentences = sentence_polarity.sents()\n",
    "len(sentences)\n",
    "type(sentences)\n",
    "sentence_polarity.categories()\n",
    "documents = [(sent, cat) for cat in sentence_polarity.categories() \n",
    "\tfor sent in sentence_polarity.sents(categories=cat)]\n",
    "documents[0]\n",
    "detokenizer = MosesDetokenizer()\n",
    "random.shuffle(documents)\n",
    "all_words_list = [word for (sent,cat) in documents for word in sent]\n",
    "all_words = nltk.FreqDist(all_words_list)\n",
    "word_items = all_words.most_common(5000)\n",
    "word_features = [word for (word, freq) in word_items]\n",
    "featuresets = [(document_features(d,word_features), c) for (d,c) in documents]\n",
    "train_set, test_set = featuresets[1000:], featuresets[:1000]\n",
    "classifier = nltk.NaiveBayesClassifier.train(train_set)\n",
    "\n",
    "list_of_lists = [list(elem) for elem in documents]"
   ]
  },
  {
   "cell_type": "code",
   "execution_count": 60,
   "metadata": {},
   "outputs": [
    {
     "name": "stdout",
     "output_type": "stream",
     "text": [
      "yes\n"
     ]
    }
   ],
   "source": [
    "test = \"worst\"\n",
    "if test in all_words_list:\n",
    "    print(\"yes\")"
   ]
  },
  {
   "cell_type": "code",
   "execution_count": 69,
   "metadata": {
    "collapsed": true
   },
   "outputs": [],
   "source": [
    "dp = []\n",
    "for i in range(len(documents)):\n",
    "\tdoc_t = []\n",
    "\tdoc_t.append(detokenizer.detokenize(documents[i][0], return_str=True))\n",
    "\tt = list_of_lists[i][1]\n",
    "\tdoc_t.append(t)\n",
    "\tdp.append(doc_t)\n",
    "\n",
    "\n",
    "\n",
    "dp = [tuple(l) for l in dp]"
   ]
  },
  {
   "cell_type": "code",
   "execution_count": 71,
   "metadata": {},
   "outputs": [
    {
     "name": "stdout",
     "output_type": "stream",
     "text": [
      "10662\n",
      "20411\n"
     ]
    }
   ],
   "source": [
    "train = dp\n",
    "print(len(dp))\n",
    "\n",
    "\n",
    "all_words = set(word.lower() for passage in train for word in word_tokenize(passage[0]))\n",
    "print(len(all_words_t))\n",
    "\n",
    "all_words_t = nltk.FreqDist(all_words)\n",
    "word_it = all_words_t.most_common(2000)\n",
    "word_fe = [word for (word,freq) in word_it]"
   ]
  },
  {
   "cell_type": "code",
   "execution_count": 73,
   "metadata": {},
   "outputs": [
    {
     "name": "stdout",
     "output_type": "stream",
     "text": [
      "yes\n"
     ]
    }
   ],
   "source": [
    "test = \"bad\"\n",
    "if test in all_words:\n",
    "    print(\"yes\")"
   ]
  },
  {
   "cell_type": "code",
   "execution_count": 74,
   "metadata": {
    "collapsed": true
   },
   "outputs": [],
   "source": [
    "t = [({word: (word in word_tokenize(x[0])) for word in word_fe}, x[1]) for x in train]\n",
    "\n",
    "classifier = nltk.NaiveBayesClassifier.train(t)"
   ]
  },
  {
   "cell_type": "code",
   "execution_count": 75,
   "metadata": {},
   "outputs": [
    {
     "data": {
      "text/plain": [
       "2000"
      ]
     },
     "execution_count": 75,
     "metadata": {},
     "output_type": "execute_result"
    }
   ],
   "source": [
    "len(word_fe)"
   ]
  },
  {
   "cell_type": "code",
   "execution_count": 104,
   "metadata": {},
   "outputs": [
    {
     "data": {
      "text/plain": [
       "20411"
      ]
     },
     "execution_count": 104,
     "metadata": {},
     "output_type": "execute_result"
    }
   ],
   "source": [
    "len(all_words)"
   ]
  },
  {
   "cell_type": "code",
   "execution_count": 81,
   "metadata": {
    "collapsed": true
   },
   "outputs": [],
   "source": [
    "sentence = \"I don't think I will order anymore of these cheap rings. 3 of them now have turned my fingers black.\""
   ]
  },
  {
   "cell_type": "code",
   "execution_count": 77,
   "metadata": {
    "collapsed": true
   },
   "outputs": [],
   "source": [
    "test_sentence = \"Keens are great, but very pricey.  These were so adorable and I was going to buy them from our neighborhood shoe store, but they didn't have my daughter's size (10) and didn't even offer to order them for me, so I went online and found them here for less money, free shipping and in the right size.  Hard to argue with that.  My daughter really likes them, but I am surprised that she doesn't wear them everyday (she usually does that with new shoes for several weeks).  I've tried asking if they hurt or anything is wrong with them, but she says no, so I'll stick with 4 stars and put it up to a fickle child with too many shoes ;-).\""
   ]
  },
  {
   "cell_type": "code",
   "execution_count": 82,
   "metadata": {},
   "outputs": [],
   "source": [
    "test_sent_features = {word.lower(): (word in word_tokenize(sentence.lower())) for word in all_words}\n"
   ]
  },
  {
   "cell_type": "code",
   "execution_count": 83,
   "metadata": {},
   "outputs": [
    {
     "data": {
      "text/plain": [
       "{'boiler': False,\n",
       " 'truth-telling': False,\n",
       " 'advert': False,\n",
       " 'frames': False,\n",
       " 'assignment': False,\n",
       " 'possibility': False,\n",
       " 'jean-luc': False,\n",
       " 'mush': False,\n",
       " 'redneck-versus-blueblood': False,\n",
       " 'spoken': False,\n",
       " 'compared': False,\n",
       " 'quick': False,\n",
       " 'dahmer': False,\n",
       " 'aspires': False,\n",
       " 'robotically': False,\n",
       " 'what-if': False,\n",
       " 'singularly': False,\n",
       " 'party': False,\n",
       " 'shouted': False,\n",
       " 'restatement': False,\n",
       " 'grows': False,\n",
       " 'acute': False,\n",
       " 'ladrón': False,\n",
       " 'befuddlement': False,\n",
       " 'ihops': False,\n",
       " 'desarrollarse': False,\n",
       " 'monstrously': False,\n",
       " \"n't\": True,\n",
       " 'pausado': False,\n",
       " 'peace-and-love': False,\n",
       " 'tuneless': False,\n",
       " 'flatulence': False,\n",
       " 'wash': False,\n",
       " 'circumstantial': False,\n",
       " 'converts': False,\n",
       " 'dwell': False,\n",
       " 'overstated': False,\n",
       " \"'the\": False,\n",
       " 'pandering': False,\n",
       " 'zap': False,\n",
       " 'janice': False,\n",
       " 'platonic': False,\n",
       " 'wavers': False,\n",
       " \"'even\": False,\n",
       " \"that'alabama\": False,\n",
       " 'daddy': False,\n",
       " 'sinais': False,\n",
       " 'sixth-grade': False,\n",
       " 'asia': False,\n",
       " 'stupidity': False,\n",
       " 'scorns': False,\n",
       " 'naipaul': False,\n",
       " 'mike': False,\n",
       " 'peculiar': False,\n",
       " 'beachcombing': False,\n",
       " 'teeny-bopper': False,\n",
       " 'attention': False,\n",
       " 'orchestrating': False,\n",
       " 'disagree': False,\n",
       " 'subsequent': False,\n",
       " 'six': False,\n",
       " 'willingness': False,\n",
       " 'quinn': False,\n",
       " 'dank': False,\n",
       " 'imposed': False,\n",
       " 'brain': False,\n",
       " 'write': False,\n",
       " 'pokémon': False,\n",
       " 'clears': False,\n",
       " 'polson': False,\n",
       " 'wheezing': False,\n",
       " 'bottom': False,\n",
       " 'crippled': False,\n",
       " 'comprehend': False,\n",
       " 'nickelodeon-esque': False,\n",
       " 'seduction': False,\n",
       " 'astute': False,\n",
       " 'ceremonies': False,\n",
       " \"compelling'who\": False,\n",
       " 'roaring': False,\n",
       " 'pressed': False,\n",
       " 'infomercial': False,\n",
       " 'cardiac': False,\n",
       " 'hole-ridden': False,\n",
       " 'vehicles': False,\n",
       " 'neo-augustinian': False,\n",
       " 're-release': False,\n",
       " 'self-regarding': False,\n",
       " 'pesky': False,\n",
       " 'vacant': False,\n",
       " 'profesores': False,\n",
       " 'blurs': False,\n",
       " 'ponytail': False,\n",
       " 'avengers': False,\n",
       " 'es': False,\n",
       " 'ravaging': False,\n",
       " 'finger': False,\n",
       " 'protecting': False,\n",
       " 'occasions': False,\n",
       " 'repulsively': False,\n",
       " 'gere': False,\n",
       " 'clamoring': False,\n",
       " 'far': False,\n",
       " 'ponders': False,\n",
       " 'maternal': False,\n",
       " 'unfolds': False,\n",
       " 'maturity': False,\n",
       " 'rhino': False,\n",
       " 'marginal': False,\n",
       " 'chinese-': False,\n",
       " 'atrociously': False,\n",
       " 'sub-formulaic': False,\n",
       " 'untugged': False,\n",
       " 'yank': False,\n",
       " 'devastation': False,\n",
       " 'comeback': False,\n",
       " 'regan': False,\n",
       " 'crowdpleaser': False,\n",
       " 'phlegmatic': False,\n",
       " 'spectator': False,\n",
       " 'cool': False,\n",
       " 'purity': False,\n",
       " 'wilson': False,\n",
       " 'contains': False,\n",
       " 'vonnegut': False,\n",
       " 'floats': False,\n",
       " '\\x96': False,\n",
       " 'fragmented': False,\n",
       " 'mournful': False,\n",
       " 'done': False,\n",
       " 'frankenstein': False,\n",
       " 'possibilities': False,\n",
       " 'herzog': False,\n",
       " 'affinity': False,\n",
       " 'pared': False,\n",
       " 'except': False,\n",
       " 'disturbing': False,\n",
       " 'best-foreign-film': False,\n",
       " 'greater': False,\n",
       " 'old': False,\n",
       " 'low-wattage': False,\n",
       " 'arctic': False,\n",
       " 'cheated': False,\n",
       " 'arwen': False,\n",
       " 'chess': False,\n",
       " 'celebi': False,\n",
       " 'thief': False,\n",
       " 'psychotic': False,\n",
       " 'krige': False,\n",
       " 'ouro': False,\n",
       " 'temerity': False,\n",
       " 'ball-and-chain': False,\n",
       " 'amélie': False,\n",
       " 'hotter': False,\n",
       " 'milquetoast': False,\n",
       " 'lately': False,\n",
       " 'paramount': False,\n",
       " 'infinite': False,\n",
       " 'smutty': False,\n",
       " 'chunk': False,\n",
       " 'abrupt': False,\n",
       " 'spies': False,\n",
       " 'yawner': False,\n",
       " 'misogynist': False,\n",
       " 'charismatic': False,\n",
       " 'bigelow': False,\n",
       " 'grownups': False,\n",
       " 'seizures': False,\n",
       " 'funnier': False,\n",
       " 'partnerships': False,\n",
       " \"in'signs\": False,\n",
       " 'dabbles': False,\n",
       " 'exxon': False,\n",
       " 'stereotypes': False,\n",
       " 'stops': False,\n",
       " 'fury': False,\n",
       " 'snail': False,\n",
       " '18': False,\n",
       " 'proceedings': False,\n",
       " 'briefly': False,\n",
       " 'hears': False,\n",
       " 'miracle': False,\n",
       " 'marveilleux': False,\n",
       " 'conducted': False,\n",
       " 'inflection': False,\n",
       " 'centre': False,\n",
       " 'bigotry': False,\n",
       " 'gibson': False,\n",
       " 'cameo': False,\n",
       " 'gruelling': False,\n",
       " 'riled': False,\n",
       " 'accepts': False,\n",
       " 'patient/doctor': False,\n",
       " 'disney-style': False,\n",
       " 'irresistible': False,\n",
       " 'idolized': False,\n",
       " 'damned': False,\n",
       " 'oversized': False,\n",
       " 'tub-thumpingly': False,\n",
       " 'hire': False,\n",
       " 'beast': False,\n",
       " 'er': False,\n",
       " 'enthusiastic': False,\n",
       " 'redemption': False,\n",
       " 'sofia': False,\n",
       " 'reviewers': False,\n",
       " 'elite': False,\n",
       " 'massacres': False,\n",
       " 'savor': False,\n",
       " 'veterans': False,\n",
       " 'bailly': False,\n",
       " 'único': False,\n",
       " 'deeply': False,\n",
       " 'in-your-face': False,\n",
       " 'internal': False,\n",
       " 'linda': False,\n",
       " 'cyber-horror': False,\n",
       " 'amongst': False,\n",
       " 'cozy': False,\n",
       " 'depressed': False,\n",
       " 'hat': False,\n",
       " 'exudes': False,\n",
       " 'labyrinthine': False,\n",
       " 'intensifying': False,\n",
       " 'subject': False,\n",
       " 'screenwriter': False,\n",
       " 'punctuated': False,\n",
       " 'sniping': False,\n",
       " 'pre-9/11': False,\n",
       " 'compulsively': False,\n",
       " 'bohemian': False,\n",
       " 'recompense': False,\n",
       " 'lecter': False,\n",
       " 'worth': False,\n",
       " 'superlarge': False,\n",
       " 'confirmation': False,\n",
       " 'grant': False,\n",
       " 'relief': False,\n",
       " 'involvement': False,\n",
       " 'named': False,\n",
       " 'preceded': False,\n",
       " 'costumer': False,\n",
       " 'custom-made': False,\n",
       " 'true-to-life': False,\n",
       " 'fiascoes': False,\n",
       " 'decommissioned': False,\n",
       " 'zelda': False,\n",
       " 'thriller/horror': False,\n",
       " 'bludgeon': False,\n",
       " 'concentrates': False,\n",
       " 'timeout': False,\n",
       " 'told': False,\n",
       " '94-minute': False,\n",
       " \"acting'chops\": False,\n",
       " 'unbearable': False,\n",
       " 'a': False,\n",
       " 'romanced': False,\n",
       " 'vat': False,\n",
       " 'arc': False,\n",
       " 'brown': False,\n",
       " 'jolly': False,\n",
       " 'disguised': False,\n",
       " 'viability': False,\n",
       " 'cimarron': False,\n",
       " 'vim': False,\n",
       " 'caviezel': False,\n",
       " 'convince': False,\n",
       " 'b+': False,\n",
       " 'action-comedy': False,\n",
       " 'cube': False,\n",
       " 'amiability': False,\n",
       " 'below': False,\n",
       " 'ye': False,\n",
       " 'journal': False,\n",
       " 'blonde': False,\n",
       " 'akasha': False,\n",
       " \"called'my\": False,\n",
       " 'experimental': False,\n",
       " 'rumination': False,\n",
       " 'playboy': False,\n",
       " 'sudden': False,\n",
       " 'magic': False,\n",
       " 'punishable': False,\n",
       " 'dreaded': False,\n",
       " 'involving': False,\n",
       " 'raphael': False,\n",
       " 'allegedly': False,\n",
       " 'webcast': False,\n",
       " 'dolorous': False,\n",
       " 'hospitals': False,\n",
       " 'evans': False,\n",
       " 'borrow': False,\n",
       " 'trumpets': False,\n",
       " 'figured': False,\n",
       " 'papai': False,\n",
       " 'rage': False,\n",
       " 'well-developed': False,\n",
       " 'consumed': False,\n",
       " 'prisoner': False,\n",
       " 'lovebirds': False,\n",
       " 'high-tech': False,\n",
       " 'administration': False,\n",
       " 'reopens': False,\n",
       " 'half-wit': False,\n",
       " 'disrupts': False,\n",
       " 'leash': False,\n",
       " 'idealistic': False,\n",
       " 'verne': False,\n",
       " 'doubling': False,\n",
       " 'mess': False,\n",
       " 'astoundingly': False,\n",
       " 'bloodstream': False,\n",
       " 'enemies': False,\n",
       " 'lifts': False,\n",
       " 'auto-pilot': False,\n",
       " 'coordinated': False,\n",
       " 'nadia': False,\n",
       " 'discarded': False,\n",
       " 'dazed': False,\n",
       " 'hughes': False,\n",
       " 'self-': False,\n",
       " 'weakly': False,\n",
       " 'happiness': False,\n",
       " '1993': False,\n",
       " 'hell': False,\n",
       " 'ills': False,\n",
       " 'improvised': False,\n",
       " 'large-scale': False,\n",
       " 'dover': False,\n",
       " 'hateful': False,\n",
       " 'probably': False,\n",
       " 'unamusing': False,\n",
       " 'entertainingly': False,\n",
       " 'u.': False,\n",
       " 'youngster': False,\n",
       " 'confronting': False,\n",
       " 'distinguishes': False,\n",
       " 'melrose': False,\n",
       " 'pegs': False,\n",
       " 'deep': False,\n",
       " 'snazziness': False,\n",
       " 'respite': False,\n",
       " 'tissue': False,\n",
       " 'reportedly': False,\n",
       " 'buddy-cop': False,\n",
       " 'ayala': False,\n",
       " 'dig': False,\n",
       " 'surface-effect': False,\n",
       " 'unfamiliar': False,\n",
       " 'interacting': False,\n",
       " 'modulated': False,\n",
       " 'benoit': False,\n",
       " 'leagues': False,\n",
       " 'johnnie': False,\n",
       " 'editor': False,\n",
       " 'leftovers': False,\n",
       " 'treated': False,\n",
       " 'cup': False,\n",
       " 'modeled': False,\n",
       " 'shortage': False,\n",
       " 'soberbio': False,\n",
       " 'enthuse': False,\n",
       " 'refuses': False,\n",
       " 'rainwear': False,\n",
       " 'cria': False,\n",
       " 'incisive': False,\n",
       " 'exception': False,\n",
       " 'hellstenius': False,\n",
       " 'behave': False,\n",
       " 'sushi': False,\n",
       " 'xerox': False,\n",
       " 'grey': False,\n",
       " 'almodóvar': False,\n",
       " 'prey': False,\n",
       " 'reassuring': False,\n",
       " 'ian': False,\n",
       " 'protect': False,\n",
       " 'stricken': False,\n",
       " 'introducing': False,\n",
       " 'dives': False,\n",
       " 'populist': False,\n",
       " 'jell': False,\n",
       " 'tall': False,\n",
       " 'tremble': False,\n",
       " 'fastidiousness': False,\n",
       " 'u': False,\n",
       " 'creepiest': False,\n",
       " '00': False,\n",
       " 'shirt': False,\n",
       " 'puzzles': False,\n",
       " 'sophisticated': False,\n",
       " 'sassy': False,\n",
       " 'hippest': False,\n",
       " 'autobiographical': False,\n",
       " 'comparable': False,\n",
       " 'eat': False,\n",
       " 'steal': False,\n",
       " 'carrera': False,\n",
       " 'dud': False,\n",
       " 'duo': False,\n",
       " 'permitting': False,\n",
       " '1790': False,\n",
       " 'strenuously': False,\n",
       " 'thou': False,\n",
       " 'unforced': False,\n",
       " 'meanest': False,\n",
       " 'triangle': False,\n",
       " 'nanette': False,\n",
       " 'lasker': False,\n",
       " 'taxi': False,\n",
       " 'shall': False,\n",
       " 'adherents': False,\n",
       " 'ugh': False,\n",
       " 'proctologist': False,\n",
       " 'cheeky': False,\n",
       " 'humour': False,\n",
       " 'lapses': False,\n",
       " 'duda': False,\n",
       " 'trifling': False,\n",
       " 'augustine': False,\n",
       " 'visit': False,\n",
       " 'complain': False,\n",
       " 'kathleen': False,\n",
       " 'eu': False,\n",
       " 'supermarket': False,\n",
       " 'ever-escalating': False,\n",
       " 'status': False,\n",
       " 'ub': False,\n",
       " \"'snow\": False,\n",
       " 'potter': False,\n",
       " 'scathingly': False,\n",
       " 'ate': False,\n",
       " 'access': False,\n",
       " 'lifelong': False,\n",
       " 'shambling': False,\n",
       " 'lower-class': False,\n",
       " 'boleto': False,\n",
       " 'casey': False,\n",
       " 'amazingly': False,\n",
       " 'unit': False,\n",
       " 'dismantle': False,\n",
       " 'ruthlessness': False,\n",
       " 'tour': False,\n",
       " 'gangster/crime': False,\n",
       " 'puzzling': False,\n",
       " '1952': False,\n",
       " 'connecting': False,\n",
       " 'velma': False,\n",
       " 'pianista': False,\n",
       " 'muckraking': False,\n",
       " 'conventional': False,\n",
       " 'misfit': False,\n",
       " 'villainous': False,\n",
       " 'comprehensible': False,\n",
       " 'aan': False,\n",
       " 'unflattering': False,\n",
       " 'bedroom': False,\n",
       " 'lump': False,\n",
       " 'wind': False,\n",
       " 'confined': False,\n",
       " 'ingeniously': False,\n",
       " 'lazily': False,\n",
       " 'masturbation': False,\n",
       " 'roberts': False,\n",
       " 'oh': False,\n",
       " 'kathy': False,\n",
       " 'dog': False,\n",
       " 'mcdonald': False,\n",
       " 'bygone': False,\n",
       " 'nonbelievers': False,\n",
       " 'helped': False,\n",
       " 'cunning': False,\n",
       " 'average': False,\n",
       " 'superstitious': False,\n",
       " 'sure': False,\n",
       " 'abbreviated': False,\n",
       " 'pedro': False,\n",
       " 'seaworthy': False,\n",
       " 'specifics': False,\n",
       " 'generically': False,\n",
       " 'ambitiously': False,\n",
       " 'fistfights': False,\n",
       " 'esta': False,\n",
       " 'carry': False,\n",
       " 'leveling': False,\n",
       " 'ripping': False,\n",
       " 'stunned': False,\n",
       " 'patiently': False,\n",
       " 'credited': False,\n",
       " 'emergency': False,\n",
       " 'chung': False,\n",
       " 'shootouts': False,\n",
       " 'sportsmen': False,\n",
       " 'standoffish': False,\n",
       " 'shandling': False,\n",
       " 'blush': False,\n",
       " 'bedknobs': False,\n",
       " 'cd': False,\n",
       " 'perversity': False,\n",
       " 'mistakes': False,\n",
       " 'sketches': False,\n",
       " 'anemic': False,\n",
       " 'curtsy': False,\n",
       " 'prevent': False,\n",
       " 'charged': False,\n",
       " 'rick': False,\n",
       " 'larger-than-life': False,\n",
       " 'hutchins': False,\n",
       " 'convicted': False,\n",
       " 'follow-your-dream': False,\n",
       " 'sophomore': False,\n",
       " 'fatal': False,\n",
       " 'clumsy': False,\n",
       " 'angst-ridden': False,\n",
       " 'beloved-major-': False,\n",
       " 'inmates': False,\n",
       " 'sexpot': False,\n",
       " 'attachment': False,\n",
       " 'racial': False,\n",
       " 'disconnected': False,\n",
       " 'headline-fresh': False,\n",
       " 'flurries': False,\n",
       " 'fully-written': False,\n",
       " 'pie': False,\n",
       " 'purr': False,\n",
       " 'americana': False,\n",
       " 'blaring': False,\n",
       " '50-year-old': False,\n",
       " 'trading': False,\n",
       " 'pervasive': False,\n",
       " 'local': False,\n",
       " 'uproariously': False,\n",
       " 'cameos': False,\n",
       " 'repeating': False,\n",
       " 'genial-rogue': False,\n",
       " 'groaners': False,\n",
       " 'montied': False,\n",
       " 'all-too-familiar': False,\n",
       " \"'spy\": False,\n",
       " 'zombie-land': False,\n",
       " 'nicky': False,\n",
       " 'emphasising': False,\n",
       " 'deathly': False,\n",
       " 'a-list': False,\n",
       " 'human': False,\n",
       " 'summary': False,\n",
       " 'hashiguchi': False,\n",
       " 'spiritual-uplift': False,\n",
       " 'explaining': False,\n",
       " 'overuse': False,\n",
       " 'thornier': False,\n",
       " 'às': False,\n",
       " 'wordplay': False,\n",
       " 'sex-in-the-city': False,\n",
       " 'bed': False,\n",
       " 'meanwhile': False,\n",
       " 'relies': False,\n",
       " 'buck': False,\n",
       " 'smokers': False,\n",
       " 'hmmm': False,\n",
       " 'juggling': False,\n",
       " 'cloyingly': False,\n",
       " 'amaze': False,\n",
       " 'plateau': False,\n",
       " 'convolutions': False,\n",
       " 'white-trash': False,\n",
       " 'bullwinkle': False,\n",
       " 'cresting': False,\n",
       " 'filmed': False,\n",
       " 'flower-power': False,\n",
       " 'details': False,\n",
       " 'maintained': False,\n",
       " 'contemplates': False,\n",
       " 'craft': False,\n",
       " 'topkapi': False,\n",
       " 'fun-loving': False,\n",
       " 'menu': False,\n",
       " 'teenager': False,\n",
       " 'demonstrate': False,\n",
       " 'problemas': False,\n",
       " 'starting': False,\n",
       " 'divorce': False,\n",
       " 'pointedly': False,\n",
       " 'rafael': False,\n",
       " 'holds': False,\n",
       " 'paranoia': False,\n",
       " 'seconds': False,\n",
       " 'quickly': False,\n",
       " 'anti-harry': False,\n",
       " 'heart-wrenching': False,\n",
       " 'tick-tock': False,\n",
       " 'mcgowan': False,\n",
       " 'minty': False,\n",
       " 'continuing': False,\n",
       " 'saps': False,\n",
       " 'talent': False,\n",
       " 'boredom': False,\n",
       " \"'advises\": False,\n",
       " 'policy': False,\n",
       " 'chateau': False,\n",
       " 'perspectives': False,\n",
       " 'sends': False,\n",
       " 'parable': False,\n",
       " 'ótimo': False,\n",
       " 'girl': False,\n",
       " 'inexorable': False,\n",
       " 'plague': False,\n",
       " 'circumstances': False,\n",
       " 'frei': False,\n",
       " 'cut-and-paste': False,\n",
       " 'tuxedo': False,\n",
       " 'time-vaulting': False,\n",
       " 'thrill': False,\n",
       " 'sandbox': False,\n",
       " 'garbled': False,\n",
       " 'oliviera': False,\n",
       " 'postcard': False,\n",
       " 'techniques': False,\n",
       " 'recommending': False,\n",
       " 'losses': False,\n",
       " 'humorous': False,\n",
       " 'cylinders': False,\n",
       " 'decorum': False,\n",
       " 'spaceship': False,\n",
       " 'drop': False,\n",
       " 'leon': False,\n",
       " 'ventura': False,\n",
       " 'exalted': False,\n",
       " 'tryingly': False,\n",
       " 'overtake': False,\n",
       " 'clements': False,\n",
       " 'hard-to-predict': False,\n",
       " 'finale': False,\n",
       " 'wo': False,\n",
       " 'aimlessness': False,\n",
       " 'phenomenon': False,\n",
       " 'jaglomized': False,\n",
       " 'prescient': False,\n",
       " 'refusal': False,\n",
       " 'el': False,\n",
       " 'pleasantly': False,\n",
       " 'fleet-footed': False,\n",
       " 'tumultuous': False,\n",
       " 'tech-geeks': False,\n",
       " 'house': False,\n",
       " 'stolid': False,\n",
       " 'setup': False,\n",
       " 'blah': False,\n",
       " 'vintage-tv': False,\n",
       " 'resumes': False,\n",
       " 'notably': False,\n",
       " 'thing-type': False,\n",
       " 'sequence': False,\n",
       " 'note': False,\n",
       " 'botched': False,\n",
       " 'establish': False,\n",
       " 'processed': False,\n",
       " 'linearity': False,\n",
       " 'physique': False,\n",
       " 'uplift': False,\n",
       " 'messianic': False,\n",
       " 'coherent': False,\n",
       " 'lugubrious': False,\n",
       " 'forbearing': False,\n",
       " 'gelati': False,\n",
       " 'journalistically': False,\n",
       " 'else': False,\n",
       " 'son': False,\n",
       " 'kickass': False,\n",
       " 'extra-large': False,\n",
       " 'clear': False,\n",
       " 'abandon': False,\n",
       " 'cloying': False,\n",
       " 'excepting': False,\n",
       " 'calcified': False,\n",
       " 'chou': False,\n",
       " \"slow-motion'grandeur\": False,\n",
       " 'unsavory': False,\n",
       " '133': False,\n",
       " 'acquainted': False,\n",
       " 'rehearsal': False,\n",
       " 'gaï': False,\n",
       " 'vacation': False,\n",
       " 'sweat': False,\n",
       " 'prisoners': False,\n",
       " 'diverting': False,\n",
       " 'c.': False,\n",
       " 'obscurities': False,\n",
       " 'likes': False,\n",
       " 'joyful': False,\n",
       " 'works': False,\n",
       " 'downing': False,\n",
       " 'george': False,\n",
       " 'lawmen': False,\n",
       " 'm.': False,\n",
       " 'elsewhere': False,\n",
       " 'graces': False,\n",
       " 'middle-america': False,\n",
       " 'leaning': False,\n",
       " 'ooze': False,\n",
       " 'nocturnal': False,\n",
       " 'smackdown': False,\n",
       " 'from': False,\n",
       " 'reassures': False,\n",
       " 'wills': False,\n",
       " 'vies': False,\n",
       " 'reeboir': False,\n",
       " 'abiding': False,\n",
       " 'flimsy': False,\n",
       " 'relied': False,\n",
       " 'praise': False,\n",
       " 'movie-starring': False,\n",
       " 'elegant': False,\n",
       " 'disposible': False,\n",
       " 'flows': False,\n",
       " 'technology': False,\n",
       " 'optimistic': False,\n",
       " 'oliveira': False,\n",
       " 'romantics': False,\n",
       " 'sermonizing': False,\n",
       " 'unendurable': False,\n",
       " 'fairytale': False,\n",
       " 'survival': False,\n",
       " 'learnt': False,\n",
       " 'solidity': False,\n",
       " 'impervious': False,\n",
       " 'contraption': False,\n",
       " 'odour': False,\n",
       " '1991': False,\n",
       " 'screens': False,\n",
       " 'laborious': False,\n",
       " 'conned': False,\n",
       " 'revoked': False,\n",
       " 'showiness': False,\n",
       " 'texas': False,\n",
       " 'driver': False,\n",
       " 'freight': False,\n",
       " 'sair': False,\n",
       " 'namely': False,\n",
       " 'indoor': False,\n",
       " 'slobbering': False,\n",
       " 'roars': False,\n",
       " 'phocion': False,\n",
       " 'joan': False,\n",
       " 'tediously': False,\n",
       " 'abroad': False,\n",
       " 'tunnel': False,\n",
       " 'hands-off': False,\n",
       " 'miraculous': False,\n",
       " 'fatality': False,\n",
       " 'galvanize': False,\n",
       " 'indomitability': False,\n",
       " 'enveloping': False,\n",
       " 'dime': False,\n",
       " 'prancing': False,\n",
       " 'genuine': False,\n",
       " 'hamfisted': False,\n",
       " 'telenovela': False,\n",
       " 'audrey': False,\n",
       " '76-minute': False,\n",
       " 'capped': False,\n",
       " 'simmer': False,\n",
       " 'companionship': False,\n",
       " 'reparations': False,\n",
       " 'pat': False,\n",
       " 'context': False,\n",
       " 'counterproductive': False,\n",
       " 'ramsay': False,\n",
       " 'scriptwriter': False,\n",
       " 'guaranteed': False,\n",
       " 'tunes': False,\n",
       " 'romething': False,\n",
       " 'capturing': False,\n",
       " 'barney': False,\n",
       " 'hypermasculine': False,\n",
       " 'progress': False,\n",
       " 'goldmember': False,\n",
       " 'midsection': False,\n",
       " 'sabotages': False,\n",
       " 'formalist': False,\n",
       " \"means'schmaltzy\": False,\n",
       " 'sad': False,\n",
       " 'well-balanced': False,\n",
       " 'susan': False,\n",
       " 'scripting': False,\n",
       " 'relevance': False,\n",
       " 'bellini': False,\n",
       " 'garcia': False,\n",
       " 'angela': False,\n",
       " 'epicenter': False,\n",
       " 'anarchist': False,\n",
       " 'yours': False,\n",
       " 'intrigue': False,\n",
       " 'believing': False,\n",
       " 'public': False,\n",
       " 'long-running': False,\n",
       " 'capricious': False,\n",
       " 'sustains': False,\n",
       " 'marking': False,\n",
       " 'harland': False,\n",
       " 'grandness': False,\n",
       " 'inevitably': False,\n",
       " 'unfakable': False,\n",
       " 'interdependence': False,\n",
       " 'symmetry': False,\n",
       " 'gellar': False,\n",
       " 'nymphette': False,\n",
       " 'science-fiction': False,\n",
       " 'co-winner': False,\n",
       " 'one-trick': False,\n",
       " 'taxicab': False,\n",
       " 'godawful': False,\n",
       " 'orgasm': False,\n",
       " 'guilty': False,\n",
       " 'situations': False,\n",
       " 'sneering': False,\n",
       " 'f.': False,\n",
       " 'paranoid': False,\n",
       " 'battles': False,\n",
       " 'parts': False,\n",
       " 'pressure-cooker': False,\n",
       " 'pulpy': False,\n",
       " 'shearer': False,\n",
       " 'musketeers': False,\n",
       " 'funky': False,\n",
       " 'unabashed': False,\n",
       " 'under': False,\n",
       " 'format': False,\n",
       " 'uneven': False,\n",
       " 'delights': False,\n",
       " 'gay-niche': False,\n",
       " 'arouse': False,\n",
       " 'woodland': False,\n",
       " 'pseudo-bio': False,\n",
       " 'diverted': False,\n",
       " \"an'action\": False,\n",
       " 'interplay': False,\n",
       " 'choosing': False,\n",
       " 'suspend': False,\n",
       " 'drooling': False,\n",
       " 'lucy': False,\n",
       " 'sermonize': False,\n",
       " 'guardian': False,\n",
       " 'sleaze': False,\n",
       " 'floria': False,\n",
       " 'assets': False,\n",
       " 'avoiding': False,\n",
       " 'complementares': False,\n",
       " 'communism': False,\n",
       " 'spontaneous': False,\n",
       " 'robots': False,\n",
       " 'neuroses': False,\n",
       " 'laudable': False,\n",
       " 'emerges': False,\n",
       " 'numbingly': False,\n",
       " 'idealistically': False,\n",
       " 'packages': False,\n",
       " 'ticking': False,\n",
       " 'hard-won': False,\n",
       " 'gems': False,\n",
       " 'discerned': False,\n",
       " 'self-deprecating': False,\n",
       " 'preposterously': False,\n",
       " 'enamored': False,\n",
       " 'gossip': False,\n",
       " 'soap-opera': False,\n",
       " 'wicked': False,\n",
       " 'head-on': False,\n",
       " 'rebel': False,\n",
       " 'stiflingly': False,\n",
       " 'wonder-what-': False,\n",
       " 'screenful': False,\n",
       " 'land': False,\n",
       " 'peppered': False,\n",
       " 'lampoon': False,\n",
       " 'wintry': False,\n",
       " 'downtown': False,\n",
       " 'tackling': False,\n",
       " 'dangers': False,\n",
       " \"best'old\": False,\n",
       " 'herself': False,\n",
       " 'deaths': False,\n",
       " 'magnolia': False,\n",
       " 'possessed': False,\n",
       " 'merrily': False,\n",
       " 'sanders': False,\n",
       " 'braided': False,\n",
       " 'unimaginative': False,\n",
       " 'beause': False,\n",
       " 'schoolhouse': False,\n",
       " 'boilerplate': False,\n",
       " 'oprahfication': False,\n",
       " 'annoying': False,\n",
       " 'presence': False,\n",
       " 'skating': False,\n",
       " 'sun-drenched': False,\n",
       " 'brooklyn': False,\n",
       " 'mildly': False,\n",
       " 'latifah': False,\n",
       " 'bitter': False,\n",
       " 'vein': False,\n",
       " 'solemn': False,\n",
       " 'recount': False,\n",
       " 'quiver': False,\n",
       " 'grease': False,\n",
       " 'garnered': False,\n",
       " 'completed': False,\n",
       " 'walled-off': False,\n",
       " 'kaleidoscope': False,\n",
       " 'calling': False,\n",
       " 'symbolizes': False,\n",
       " 'derrida': False,\n",
       " 'tribute': False,\n",
       " 'fosters': False,\n",
       " 'eye-catching': False,\n",
       " 'complexity': False,\n",
       " 'wahlberg': False,\n",
       " 'pleaser': False,\n",
       " 'yearning': False,\n",
       " 'huge-screen': False,\n",
       " 'gasbag': False,\n",
       " 'ourselves': False,\n",
       " '-style': False,\n",
       " 'kunis': False,\n",
       " 'gain': False,\n",
       " 'huge': False,\n",
       " 'pro-fat': False,\n",
       " 'disparate': False,\n",
       " 'enthusiasts': False,\n",
       " 'dissatisfied': False,\n",
       " 'mindsets': False,\n",
       " 'medical': False,\n",
       " 'hardly': False,\n",
       " 'messy': False,\n",
       " 'awesome': False,\n",
       " 'encompassing': False,\n",
       " 'lull': False,\n",
       " 'captures': False,\n",
       " 'cheapened': False,\n",
       " 'distilled': False,\n",
       " 'e-mailing': False,\n",
       " 'brutally': False,\n",
       " 'football': False,\n",
       " 'scrubbing': False,\n",
       " 'doe-eyed': False,\n",
       " 'dooby': False,\n",
       " 'pointlessness': False,\n",
       " 'evaluate': False,\n",
       " 'hiss': False,\n",
       " 'roots': False,\n",
       " 'gruesome': False,\n",
       " 'sneeze': False,\n",
       " 'headed': False,\n",
       " 'perceptiveness': False,\n",
       " 'betrayals': False,\n",
       " 'stodgy': False,\n",
       " 'chimes': False,\n",
       " 'encomia': False,\n",
       " 'cia': False,\n",
       " 'movie-biz': False,\n",
       " 'species': False,\n",
       " 'pokemon': False,\n",
       " 'profit': False,\n",
       " 'newcastle': False,\n",
       " '52': False,\n",
       " 'cattle': False,\n",
       " 'main': False,\n",
       " 'distinctive': False,\n",
       " 'mask': False,\n",
       " 'supportive': False,\n",
       " 'sequins': False,\n",
       " 'vertigo': False,\n",
       " \"'de\": False,\n",
       " 'copious': False,\n",
       " '10-inch': False,\n",
       " 'often-mined': False,\n",
       " 'earmarks': False,\n",
       " 'magnificent': False,\n",
       " 'injected': False,\n",
       " 'meet': False,\n",
       " 'youngsters': False,\n",
       " 'greased': False,\n",
       " 'grievous': False,\n",
       " 'under-12': False,\n",
       " 'scare': False,\n",
       " 'treasured': False,\n",
       " 'circa': False,\n",
       " 'sounded': False,\n",
       " 'tonto': False,\n",
       " 'basis': False,\n",
       " 'condensed': False,\n",
       " 'show': False,\n",
       " 'personified': False,\n",
       " 'naomi': False,\n",
       " 'larry': False,\n",
       " 'everyman': False,\n",
       " 'depraved': False,\n",
       " 'bite': False,\n",
       " 'materializes': False,\n",
       " 'rabbits': False,\n",
       " ...}"
      ]
     },
     "execution_count": 83,
     "metadata": {},
     "output_type": "execute_result"
    }
   ],
   "source": [
    "test_sent_features"
   ]
  },
  {
   "cell_type": "code",
   "execution_count": 84,
   "metadata": {},
   "outputs": [
    {
     "data": {
      "text/plain": [
       "'neg'"
      ]
     },
     "execution_count": 84,
     "metadata": {},
     "output_type": "execute_result"
    }
   ],
   "source": [
    "classifier.classify(test_sent_features)"
   ]
  },
  {
   "cell_type": "code",
   "execution_count": 85,
   "metadata": {
    "collapsed": true
   },
   "outputs": [],
   "source": [
    "pos = []\n",
    "neg = []\n"
   ]
  },
  {
   "cell_type": "code",
   "execution_count": null,
   "metadata": {
    "collapsed": true
   },
   "outputs": [],
   "source": []
  },
  {
   "cell_type": "code",
   "execution_count": 86,
   "metadata": {
    "collapsed": true
   },
   "outputs": [],
   "source": [
    "remove_empty_lines('/Users/rishi/Desktop/clothing_shoes_jewelry.txt')"
   ]
  },
  {
   "cell_type": "code",
   "execution_count": 271,
   "metadata": {
    "collapsed": true
   },
   "outputs": [],
   "source": [
    "f = open('/Users/rishi/Desktop/test-pos-09.txt','w+')"
   ]
  },
  {
   "cell_type": "code",
   "execution_count": 253,
   "metadata": {
    "collapsed": true
   },
   "outputs": [],
   "source": [
    "import csv"
   ]
  },
  {
   "cell_type": "code",
   "execution_count": 120,
   "metadata": {},
   "outputs": [],
   "source": [
    "fcsv = open('returns-pos.csv', 'wb')\n",
    "writerf = csv.writer(fcsv)"
   ]
  },
  {
   "cell_type": "code",
   "execution_count": 121,
   "metadata": {
    "collapsed": true
   },
   "outputs": [],
   "source": [
    "fncsv = open('returns-neg.csv', 'wb')\n",
    "writerfn = csv.writer(fncsv)"
   ]
  },
  {
   "cell_type": "code",
   "execution_count": 272,
   "metadata": {
    "collapsed": true
   },
   "outputs": [],
   "source": [
    "fn = open('/Users/rishi/Desktop/test-neg-09.txt','w+')"
   ]
  },
  {
   "cell_type": "code",
   "execution_count": 90,
   "metadata": {
    "collapsed": true
   },
   "outputs": [],
   "source": [
    "f = open('/Users/rishi/Desktop/clothing_shoes_jewelry.txt', 'r')\n",
    "answer = collections.defaultdict(list)\n",
    "for line in f:\n",
    "    k, v = line.strip().split(':',1)\n",
    "    \n",
    "    answer[k.strip()].append(v.strip())\n",
    "f.close()\n",
    "cnt=0"
   ]
  },
  {
   "cell_type": "code",
   "execution_count": 91,
   "metadata": {},
   "outputs": [
    {
     "name": "stdout",
     "output_type": "stream",
     "text": [
      "278677\n"
     ]
    }
   ],
   "source": [
    "print(len(answer['reviewText']))\n",
    "\n",
    "phrasedata=[]\n",
    "for n in answer['reviewText']:\n",
    "\tphrasedata.append([])\n",
    "\tphrasedata[cnt].append(n)\n",
    "\tcnt += 1"
   ]
  },
  {
   "cell_type": "code",
   "execution_count": 92,
   "metadata": {},
   "outputs": [
    {
     "name": "stdout",
     "output_type": "stream",
     "text": [
      "278677\n",
      "278677\n",
      "flat\n",
      "278677\n"
     ]
    }
   ],
   "source": [
    "cnt=0\n",
    "timeyear = []\n",
    "for nt in answer['reviewTime']:\n",
    "\t  timeyear.append(nt)\n",
    "\t#phrasedata[cnt].append(nt)\n",
    "    #cnt += 1\n",
    "print(len(timeyear))\n",
    "year_list = []\n",
    "for n in timeyear:\n",
    "  year=re.findall('[1-2][0-9][0-9][0-9]',n)\n",
    "  year_list.append(year)\n",
    "\n",
    "print(len(year_list))\n",
    "dic1=defaultdict(list)\n",
    "flat_list = [item for sublist in year_list for item in sublist]\n",
    "print(\"flat\")\n",
    "print (len(flat_list))\n",
    "for n in flat_list:\n",
    "  dic1[n].append(phrasedata[cnt])\n",
    "  cnt += 1\n"
   ]
  },
  {
   "cell_type": "code",
   "execution_count": 93,
   "metadata": {},
   "outputs": [
    {
     "data": {
      "text/plain": [
       "12"
      ]
     },
     "execution_count": 93,
     "metadata": {},
     "output_type": "execute_result"
    }
   ],
   "source": [
    "len(dic1)"
   ]
  },
  {
   "cell_type": "code",
   "execution_count": 98,
   "metadata": {},
   "outputs": [],
   "source": [
    "sam = dic1['2010']"
   ]
  },
  {
   "cell_type": "code",
   "execution_count": 263,
   "metadata": {
    "collapsed": true
   },
   "outputs": [],
   "source": [
    "sam09 = dic1['2009']"
   ]
  },
  {
   "cell_type": "code",
   "execution_count": 264,
   "metadata": {},
   "outputs": [
    {
     "data": {
      "text/plain": [
       "1661"
      ]
     },
     "execution_count": 264,
     "metadata": {},
     "output_type": "execute_result"
    }
   ],
   "source": [
    "len(sam09)"
   ]
  },
  {
   "cell_type": "code",
   "execution_count": 265,
   "metadata": {},
   "outputs": [
    {
     "data": {
      "text/plain": [
       "list"
      ]
     },
     "execution_count": 265,
     "metadata": {},
     "output_type": "execute_result"
    }
   ],
   "source": [
    "type(sam09)"
   ]
  },
  {
   "cell_type": "code",
   "execution_count": 266,
   "metadata": {},
   "outputs": [
    {
     "data": {
      "text/plain": [
       "['My 2.5 year old got the 3-4 year suit. It\\'s a little tight to begin with, so he fit in it just fine. The pants were a little longer, but with shoes, he fit it, no problem. (He is \"average\" height and weight, for a 2.5 year old, according to docs.)  If your child is \"meaty\" at all like mine is on top, I would suggest getting the larger size.After reading the other reviews about how flimsy this costume was, I didn\\'t let my kiddo wear it until the actual day of Halloween. He ran around a lot but it didn\\'t tear at all. I think it has a couple more good uses in it.If you are hoping to buy a costume that will last and will allow your child to play in it at home, I don\\'t think this is the one. They have the $50 one that looks a lot more sturdier. But if it\\'s just for this Halloween and maybe next year for the kiddo next door, then by all means, get this one!!!  For the price we paid ($35), I am very happy with the purchase and the pictures of him enjoying being the Heroic \"Buzz\" will last forever, even if the suit doesn\\'t!']"
      ]
     },
     "execution_count": 266,
     "metadata": {},
     "output_type": "execute_result"
    }
   ],
   "source": [
    "sam09[0]"
   ]
  },
  {
   "cell_type": "code",
   "execution_count": 99,
   "metadata": {},
   "outputs": [
    {
     "data": {
      "text/plain": [
       "list"
      ]
     },
     "execution_count": 99,
     "metadata": {},
     "output_type": "execute_result"
    }
   ],
   "source": [
    "type(sam)"
   ]
  },
  {
   "cell_type": "code",
   "execution_count": 110,
   "metadata": {},
   "outputs": [
    {
     "data": {
      "text/plain": [
       "1"
      ]
     },
     "execution_count": 110,
     "metadata": {},
     "output_type": "execute_result"
    }
   ],
   "source": [
    "len(sam[0])"
   ]
  },
  {
   "cell_type": "code",
   "execution_count": 103,
   "metadata": {},
   "outputs": [
    {
     "data": {
      "text/plain": [
       "\"The first question was which computers to install this program - Rosetta Stone has a two seat minimum. I ended up putting the 2nd installation on a laptop, expecting to use the program in other locations.  However, Rosetta Stone's immersion method feels too intensive to me for use in most places away from home.  Installation was easy enough even though the program got stuck a couple of times along the way. The gear, headset with microphone, is sufficient.Pros:* For total immersion-type instruction without the benefit of communicating with other people, this seemed very good.* The voice recognition software is impressive. I was able to immediately begin speaking and progressed to the second level of difficulty fairly quickly. There are plenty of exercises and repetition, and this will surely help in many ways including pronunciation.* There are learning sessions in this software to allow speaking with native French speakers.*For me as an individual, this is a better way to learn than a formal classroom.Cons:* The limitation in the number of seats (2). This wasn't a problem for me yet it's something to know about.* Lack of matching supplemental physical material such as index cards with conjugations and grammatical rules. I feel the need for this and can source it out separately, but again I prefer to learn outside a formal classroom.* Lack of simple visuals to help with identifying grammatical patterns.\""
      ]
     },
     "execution_count": 103,
     "metadata": {},
     "output_type": "execute_result"
    }
   ],
   "source": [
    "sam[0][0]"
   ]
  },
  {
   "cell_type": "code",
   "execution_count": 109,
   "metadata": {},
   "outputs": [
    {
     "data": {
      "text/plain": [
       "20411"
      ]
     },
     "execution_count": 109,
     "metadata": {},
     "output_type": "execute_result"
    }
   ],
   "source": [
    "len(all_words)"
   ]
  },
  {
   "cell_type": "code",
   "execution_count": 267,
   "metadata": {
    "collapsed": true
   },
   "outputs": [],
   "source": [
    "pos_09 = []"
   ]
  },
  {
   "cell_type": "code",
   "execution_count": 268,
   "metadata": {
    "collapsed": true
   },
   "outputs": [],
   "source": [
    "neg_09 = []"
   ]
  },
  {
   "cell_type": "code",
   "execution_count": 269,
   "metadata": {
    "collapsed": true
   },
   "outputs": [],
   "source": [
    "cnt=0"
   ]
  },
  {
   "cell_type": "code",
   "execution_count": 270,
   "metadata": {},
   "outputs": [
    {
     "data": {
      "text/plain": [
       "1661"
      ]
     },
     "execution_count": 270,
     "metadata": {},
     "output_type": "execute_result"
    }
   ],
   "source": [
    "len(sam09)"
   ]
  },
  {
   "cell_type": "code",
   "execution_count": 273,
   "metadata": {},
   "outputs": [
    {
     "name": "stdout",
     "output_type": "stream",
     "text": [
      "0\n",
      "1\n",
      "2\n",
      "3\n",
      "4\n",
      "5\n",
      "6\n",
      "7\n",
      "8\n",
      "9\n",
      "10\n",
      "11\n",
      "12\n",
      "13\n",
      "14\n",
      "15\n",
      "16\n",
      "17\n",
      "18\n",
      "19\n",
      "20\n",
      "21\n",
      "22\n",
      "23\n",
      "24\n",
      "25\n",
      "26\n",
      "27\n",
      "28\n",
      "29\n",
      "30\n",
      "31\n",
      "32\n",
      "33\n",
      "34\n",
      "35\n",
      "36\n",
      "37\n",
      "38\n",
      "39\n",
      "40\n",
      "41\n",
      "42\n",
      "43\n",
      "44\n",
      "45\n",
      "46\n",
      "47\n",
      "48\n",
      "49\n",
      "50\n",
      "51\n",
      "52\n",
      "53\n",
      "54\n",
      "55\n",
      "56\n",
      "57\n",
      "58\n",
      "59\n",
      "60\n",
      "61\n",
      "62\n",
      "63\n",
      "64\n",
      "65\n",
      "66\n",
      "67\n",
      "68\n",
      "69\n",
      "70\n",
      "71\n",
      "72\n",
      "73\n",
      "74\n",
      "75\n",
      "76\n",
      "77\n",
      "78\n",
      "79\n",
      "80\n",
      "81\n",
      "82\n",
      "83\n",
      "84\n",
      "85\n",
      "86\n",
      "87\n",
      "88\n",
      "89\n",
      "90\n",
      "91\n",
      "92\n",
      "93\n",
      "94\n",
      "95\n",
      "96\n",
      "97\n",
      "98\n",
      "99\n",
      "100\n",
      "101\n",
      "102\n",
      "103\n",
      "104\n",
      "105\n",
      "106\n",
      "107\n",
      "108\n",
      "109\n",
      "110\n",
      "111\n",
      "112\n",
      "113\n",
      "114\n",
      "115\n",
      "116\n",
      "117\n",
      "118\n",
      "119\n",
      "120\n",
      "121\n",
      "122\n",
      "123\n",
      "124\n",
      "125\n",
      "126\n",
      "127\n",
      "128\n",
      "129\n",
      "130\n",
      "131\n",
      "132\n",
      "133\n",
      "134\n",
      "135\n",
      "136\n",
      "137\n",
      "138\n",
      "139\n",
      "140\n",
      "141\n",
      "142\n",
      "143\n",
      "144\n",
      "145\n",
      "146\n",
      "147\n",
      "148\n",
      "149\n",
      "150\n",
      "151\n",
      "152\n",
      "153\n",
      "154\n",
      "155\n",
      "156\n",
      "157\n",
      "158\n",
      "159\n",
      "160\n",
      "161\n",
      "162\n",
      "163\n",
      "164\n",
      "165\n",
      "166\n",
      "167\n",
      "168\n",
      "169\n",
      "170\n",
      "171\n",
      "172\n",
      "173\n",
      "174\n",
      "175\n",
      "176\n",
      "177\n",
      "178\n",
      "179\n",
      "180\n",
      "181\n",
      "182\n",
      "183\n",
      "184\n",
      "185\n",
      "186\n",
      "187\n",
      "188\n",
      "189\n",
      "190\n",
      "191\n",
      "192\n",
      "193\n",
      "194\n",
      "195\n",
      "196\n",
      "197\n",
      "198\n",
      "199\n",
      "200\n",
      "201\n",
      "202\n",
      "203\n",
      "204\n",
      "205\n",
      "206\n",
      "207\n",
      "208\n",
      "209\n",
      "210\n",
      "211\n",
      "212\n",
      "213\n",
      "214\n",
      "215\n",
      "216\n",
      "217\n",
      "218\n",
      "219\n",
      "220\n",
      "221\n",
      "222\n",
      "223\n",
      "224\n",
      "225\n",
      "226\n",
      "227\n",
      "228\n",
      "229\n",
      "230\n",
      "231\n",
      "232\n",
      "233\n",
      "234\n",
      "235\n",
      "236\n",
      "237\n",
      "238\n",
      "239\n",
      "240\n",
      "241\n",
      "242\n",
      "243\n",
      "244\n",
      "245\n",
      "246\n",
      "247\n",
      "248\n",
      "249\n",
      "250\n",
      "251\n",
      "252\n",
      "253\n",
      "254\n",
      "255\n",
      "256\n",
      "257\n",
      "258\n",
      "259\n",
      "260\n",
      "261\n",
      "262\n",
      "263\n",
      "264\n",
      "265\n",
      "266\n",
      "267\n",
      "268\n",
      "269\n",
      "270\n",
      "271\n",
      "272\n",
      "273\n",
      "274\n",
      "275\n",
      "276\n",
      "277\n",
      "278\n",
      "279\n",
      "280\n",
      "281\n",
      "282\n",
      "283\n",
      "284\n",
      "285\n",
      "286\n",
      "287\n",
      "288\n",
      "289\n",
      "290\n",
      "291\n",
      "292\n",
      "293\n",
      "294\n",
      "295\n",
      "296\n",
      "297\n",
      "298\n",
      "299\n",
      "300\n",
      "301\n",
      "302\n",
      "303\n",
      "304\n",
      "305\n",
      "306\n",
      "307\n",
      "308\n",
      "309\n",
      "310\n",
      "311\n",
      "312\n",
      "313\n",
      "314\n",
      "315\n",
      "316\n",
      "317\n",
      "318\n",
      "319\n",
      "320\n",
      "321\n",
      "322\n",
      "323\n",
      "324\n",
      "325\n",
      "326\n",
      "327\n",
      "328\n",
      "329\n",
      "330\n",
      "331\n",
      "332\n",
      "333\n",
      "334\n",
      "335\n",
      "336\n",
      "337\n",
      "338\n",
      "339\n",
      "340\n",
      "341\n",
      "342\n",
      "343\n",
      "344\n",
      "345\n",
      "346\n",
      "347\n",
      "348\n",
      "349\n",
      "350\n",
      "351\n",
      "352\n",
      "353\n",
      "354\n",
      "355\n",
      "356\n",
      "357\n",
      "358\n",
      "359\n",
      "360\n",
      "361\n",
      "362\n",
      "363\n",
      "364\n",
      "365\n",
      "366\n",
      "367\n",
      "368\n",
      "369\n",
      "370\n",
      "371\n",
      "372\n",
      "373\n",
      "374\n",
      "375\n",
      "376\n",
      "377\n",
      "378\n",
      "379\n",
      "380\n",
      "381\n",
      "382\n",
      "383\n",
      "384\n",
      "385\n",
      "386\n",
      "387\n",
      "388\n",
      "389\n",
      "390\n",
      "391\n",
      "392\n",
      "393\n",
      "394\n",
      "395\n",
      "396\n",
      "397\n",
      "398\n",
      "399\n",
      "400\n",
      "401\n",
      "402\n",
      "403\n",
      "404\n",
      "405\n",
      "406\n",
      "407\n",
      "408\n",
      "409\n",
      "410\n",
      "411\n",
      "412\n",
      "413\n",
      "414\n",
      "415\n",
      "416\n",
      "417\n",
      "418\n",
      "419\n",
      "420\n",
      "421\n",
      "422\n",
      "423\n",
      "424\n",
      "425\n",
      "426\n",
      "427\n",
      "428\n",
      "429\n",
      "430\n",
      "431\n",
      "432\n",
      "433\n",
      "434\n",
      "435\n",
      "436\n",
      "437\n",
      "438\n",
      "439\n",
      "440\n",
      "441\n",
      "442\n",
      "443\n",
      "444\n",
      "445\n",
      "446\n",
      "447\n",
      "448\n",
      "449\n",
      "450\n",
      "451\n",
      "452\n",
      "453\n",
      "454\n",
      "455\n",
      "456\n",
      "457\n",
      "458\n",
      "459\n",
      "460\n",
      "461\n",
      "462\n",
      "463\n",
      "464\n",
      "465\n",
      "466\n",
      "467\n",
      "468\n",
      "469\n",
      "470\n",
      "471\n",
      "472\n",
      "473\n",
      "474\n",
      "475\n",
      "476\n",
      "477\n",
      "478\n",
      "479\n",
      "480\n",
      "481\n",
      "482\n",
      "483\n",
      "484\n",
      "485\n",
      "486\n",
      "487\n",
      "488\n",
      "489\n",
      "490\n",
      "491\n",
      "492\n",
      "493\n",
      "494\n",
      "495\n",
      "496\n",
      "497\n",
      "498\n",
      "499\n",
      "500\n",
      "501\n",
      "502\n",
      "503\n",
      "504\n",
      "505\n",
      "506\n",
      "507\n",
      "508\n",
      "509\n",
      "510\n",
      "511\n",
      "512\n",
      "513\n",
      "514\n",
      "515\n",
      "516\n",
      "517\n",
      "518\n",
      "519\n",
      "520\n",
      "521\n",
      "522\n",
      "523\n",
      "524\n",
      "525\n",
      "526\n",
      "527\n",
      "528\n",
      "529\n",
      "530\n",
      "531\n",
      "532\n",
      "533\n",
      "534\n",
      "535\n",
      "536\n",
      "537\n",
      "538\n",
      "539\n",
      "540\n",
      "541\n",
      "542\n",
      "543\n",
      "544\n",
      "545\n",
      "546\n",
      "547\n",
      "548\n",
      "549\n",
      "550\n",
      "551\n",
      "552\n",
      "553\n",
      "554\n",
      "555\n",
      "556\n",
      "557\n",
      "558\n",
      "559\n",
      "560\n",
      "561\n",
      "562\n",
      "563\n",
      "564\n",
      "565\n",
      "566\n",
      "567\n",
      "568\n",
      "569\n",
      "570\n",
      "571\n",
      "572\n",
      "573\n",
      "574\n",
      "575\n",
      "576\n",
      "577\n",
      "578\n",
      "579\n",
      "580\n",
      "581\n",
      "582\n",
      "583\n",
      "584\n",
      "585\n",
      "586\n",
      "587\n",
      "588\n",
      "589\n",
      "590\n",
      "591\n",
      "592\n",
      "593\n",
      "594\n",
      "595\n",
      "596\n",
      "597\n",
      "598\n",
      "599\n",
      "600\n",
      "601\n",
      "602\n",
      "603\n",
      "604\n",
      "605\n",
      "606\n",
      "607\n",
      "608\n",
      "609\n",
      "610\n",
      "611\n",
      "612\n",
      "613\n",
      "614\n",
      "615\n",
      "616\n",
      "617\n",
      "618\n",
      "619\n",
      "620\n",
      "621\n",
      "622\n",
      "623\n",
      "624\n",
      "625\n",
      "626\n",
      "627\n",
      "628\n",
      "629\n",
      "630\n",
      "631\n",
      "632\n",
      "633\n",
      "634\n",
      "635\n",
      "636\n",
      "637\n",
      "638\n",
      "639\n",
      "640\n",
      "641\n",
      "642\n",
      "643\n",
      "644\n",
      "645\n",
      "646\n",
      "647\n",
      "648\n",
      "649\n",
      "650\n",
      "651\n",
      "652\n",
      "653\n",
      "654\n",
      "655\n",
      "656\n",
      "657\n",
      "658\n",
      "659\n",
      "660\n",
      "661\n",
      "662\n",
      "663\n",
      "664\n",
      "665\n",
      "666\n",
      "667\n",
      "668\n",
      "669\n",
      "670\n",
      "671\n",
      "672\n",
      "673\n",
      "674\n",
      "675\n",
      "676\n",
      "677\n",
      "678\n",
      "679\n",
      "680\n",
      "681\n",
      "682\n",
      "683\n",
      "684\n",
      "685\n",
      "686\n",
      "687\n",
      "688\n",
      "689\n",
      "690\n",
      "691\n",
      "692\n",
      "693\n",
      "694\n",
      "695\n",
      "696\n",
      "697\n",
      "698\n",
      "699\n",
      "700\n",
      "701\n",
      "702\n",
      "703\n",
      "704\n",
      "705\n",
      "706\n",
      "707\n",
      "708\n",
      "709\n",
      "710\n",
      "711\n",
      "712\n",
      "713\n",
      "714\n",
      "715\n",
      "716\n",
      "717\n",
      "718\n",
      "719\n",
      "720\n",
      "721\n",
      "722\n",
      "723\n",
      "724\n",
      "725\n",
      "726\n",
      "727\n",
      "728\n",
      "729\n",
      "730\n",
      "731\n",
      "732\n",
      "733\n",
      "734\n",
      "735\n",
      "736\n",
      "737\n",
      "738\n",
      "739\n",
      "740\n",
      "741\n",
      "742\n",
      "743\n",
      "744\n",
      "745\n",
      "746\n",
      "747\n",
      "748\n",
      "749\n",
      "750\n",
      "751\n",
      "752\n",
      "753\n",
      "754\n",
      "755\n",
      "756\n",
      "757\n",
      "758\n",
      "759\n",
      "760\n",
      "761\n",
      "762\n",
      "763\n",
      "764\n",
      "765\n",
      "766\n",
      "767\n",
      "768\n",
      "769\n",
      "770\n",
      "771\n",
      "772\n",
      "773\n",
      "774\n",
      "775\n",
      "776\n",
      "777\n",
      "778\n",
      "779\n",
      "780\n",
      "781\n",
      "782\n",
      "783\n",
      "784\n",
      "785\n",
      "786\n",
      "787\n",
      "788\n",
      "789\n",
      "790\n",
      "791\n",
      "792\n",
      "793\n",
      "794\n",
      "795\n",
      "796\n",
      "797\n",
      "798\n",
      "799\n",
      "800\n",
      "801\n",
      "802\n",
      "803\n",
      "804\n",
      "805\n",
      "806\n",
      "807\n",
      "808\n",
      "809\n",
      "810\n",
      "811\n",
      "812\n",
      "813\n",
      "814\n",
      "815\n",
      "816\n",
      "817\n",
      "818\n",
      "819\n",
      "820\n",
      "821\n",
      "822\n",
      "823\n",
      "824\n",
      "825\n",
      "826\n",
      "827\n",
      "828\n",
      "829\n",
      "830\n",
      "831\n",
      "832\n",
      "833\n",
      "834\n",
      "835\n",
      "836\n",
      "837\n",
      "838\n",
      "839\n",
      "840\n",
      "841\n",
      "842\n",
      "843\n",
      "844\n",
      "845\n",
      "846\n",
      "847\n",
      "848\n",
      "849\n",
      "850\n",
      "851\n",
      "852\n",
      "853\n",
      "854\n",
      "855\n",
      "856\n",
      "857\n",
      "858\n",
      "859\n",
      "860\n",
      "861\n",
      "862\n",
      "863\n",
      "864\n",
      "865\n",
      "866\n",
      "867\n",
      "868\n",
      "869\n",
      "870\n",
      "871\n",
      "872\n",
      "873\n",
      "874\n",
      "875\n",
      "876\n",
      "877\n",
      "878\n",
      "879\n",
      "880\n",
      "881\n",
      "882\n",
      "883\n",
      "884\n",
      "885\n",
      "886\n",
      "887\n",
      "888\n",
      "889\n",
      "890\n",
      "891\n",
      "892\n",
      "893\n",
      "894\n",
      "895\n",
      "896\n",
      "897\n",
      "898\n",
      "899\n",
      "900\n",
      "901\n",
      "902\n",
      "903\n",
      "904\n",
      "905\n",
      "906\n",
      "907\n",
      "908\n",
      "909\n",
      "910\n",
      "911\n",
      "912\n",
      "913\n",
      "914\n",
      "915\n",
      "916\n",
      "917\n",
      "918\n",
      "919\n",
      "920\n",
      "921\n",
      "922\n",
      "923\n",
      "924\n",
      "925\n",
      "926\n",
      "927\n",
      "928\n",
      "929\n",
      "930\n",
      "931\n",
      "932\n",
      "933\n",
      "934\n",
      "935\n",
      "936\n",
      "937\n",
      "938\n",
      "939\n",
      "940\n",
      "941\n",
      "942\n",
      "943\n",
      "944\n",
      "945\n",
      "946\n",
      "947\n",
      "948\n",
      "949\n",
      "950\n",
      "951\n",
      "952\n",
      "953\n",
      "954\n",
      "955\n",
      "956\n",
      "957\n",
      "958\n",
      "959\n",
      "960\n",
      "961\n",
      "962\n",
      "963\n",
      "964\n",
      "965\n",
      "966\n",
      "967\n",
      "968\n",
      "969\n",
      "970\n",
      "971\n",
      "972\n",
      "973\n",
      "974\n",
      "975\n",
      "976\n",
      "977\n",
      "978\n",
      "979\n",
      "980\n",
      "981\n",
      "982\n",
      "983\n",
      "984\n",
      "985\n",
      "986\n",
      "987\n",
      "988\n",
      "989\n",
      "990\n",
      "991\n",
      "992\n",
      "993\n",
      "994\n",
      "995\n",
      "996\n",
      "997\n",
      "998\n",
      "999\n",
      "1000\n",
      "1001\n",
      "1002\n",
      "1003\n",
      "1004\n",
      "1005\n",
      "1006\n",
      "1007\n",
      "1008\n",
      "1009\n",
      "1010\n",
      "1011\n",
      "1012\n",
      "1013\n",
      "1014\n",
      "1015\n",
      "1016\n",
      "1017\n",
      "1018\n",
      "1019\n",
      "1020\n",
      "1021\n",
      "1022\n",
      "1023\n",
      "1024\n",
      "1025\n",
      "1026\n",
      "1027\n",
      "1028\n",
      "1029\n",
      "1030\n",
      "1031\n",
      "1032\n",
      "1033\n",
      "1034\n",
      "1035\n",
      "1036\n",
      "1037\n",
      "1038\n",
      "1039\n",
      "1040\n",
      "1041\n",
      "1042\n",
      "1043\n",
      "1044\n",
      "1045\n",
      "1046\n",
      "1047\n",
      "1048\n",
      "1049\n",
      "1050\n",
      "1051\n",
      "1052\n",
      "1053\n",
      "1054\n",
      "1055\n",
      "1056\n",
      "1057\n",
      "1058\n",
      "1059\n",
      "1060\n",
      "1061\n",
      "1062\n",
      "1063\n",
      "1064\n",
      "1065\n",
      "1066\n",
      "1067\n",
      "1068\n",
      "1069\n",
      "1070\n",
      "1071\n",
      "1072\n",
      "1073\n",
      "1074\n",
      "1075\n",
      "1076\n",
      "1077\n",
      "1078\n",
      "1079\n",
      "1080\n",
      "1081\n",
      "1082\n",
      "1083\n",
      "1084\n",
      "1085\n",
      "1086\n",
      "1087\n",
      "1088\n",
      "1089\n",
      "1090\n",
      "1091\n",
      "1092\n",
      "1093\n",
      "1094\n",
      "1095\n",
      "1096\n",
      "1097\n",
      "1098\n",
      "1099\n",
      "1100\n",
      "1101\n",
      "1102\n",
      "1103\n",
      "1104\n",
      "1105\n",
      "1106\n",
      "1107\n",
      "1108\n",
      "1109\n",
      "1110\n",
      "1111\n",
      "1112\n",
      "1113\n",
      "1114\n",
      "1115\n",
      "1116\n",
      "1117\n",
      "1118\n",
      "1119\n",
      "1120\n",
      "1121\n",
      "1122\n",
      "1123\n",
      "1124\n",
      "1125\n",
      "1126\n",
      "1127\n",
      "1128\n",
      "1129\n",
      "1130\n",
      "1131\n",
      "1132\n",
      "1133\n",
      "1134\n",
      "1135\n",
      "1136\n",
      "1137\n",
      "1138\n",
      "1139\n",
      "1140\n",
      "1141\n",
      "1142\n",
      "1143\n",
      "1144\n",
      "1145\n",
      "1146\n",
      "1147\n",
      "1148\n",
      "1149\n",
      "1150\n",
      "1151\n",
      "1152\n",
      "1153\n",
      "1154\n",
      "1155\n",
      "1156\n",
      "1157\n",
      "1158\n",
      "1159\n",
      "1160\n",
      "1161\n",
      "1162\n",
      "1163\n",
      "1164\n",
      "1165\n",
      "1166\n",
      "1167\n",
      "1168\n",
      "1169\n",
      "1170\n",
      "1171\n",
      "1172\n",
      "1173\n",
      "1174\n",
      "1175\n",
      "1176\n",
      "1177\n",
      "1178\n",
      "1179\n",
      "1180\n",
      "1181\n",
      "1182\n",
      "1183\n",
      "1184\n",
      "1185\n",
      "1186\n",
      "1187\n",
      "1188\n",
      "1189\n",
      "1190\n",
      "1191\n",
      "1192\n",
      "1193\n",
      "1194\n",
      "1195\n",
      "1196\n",
      "1197\n",
      "1198\n",
      "1199\n",
      "1200\n",
      "1201\n",
      "1202\n",
      "1203\n",
      "1204\n",
      "1205\n",
      "1206\n",
      "1207\n",
      "1208\n",
      "1209\n",
      "1210\n",
      "1211\n",
      "1212\n",
      "1213\n",
      "1214\n",
      "1215\n",
      "1216\n",
      "1217\n",
      "1218\n",
      "1219\n",
      "1220\n",
      "1221\n",
      "1222\n",
      "1223\n",
      "1224\n",
      "1225\n",
      "1226\n",
      "1227\n",
      "1228\n",
      "1229\n",
      "1230\n",
      "1231\n",
      "1232\n",
      "1233\n",
      "1234\n",
      "1235\n",
      "1236\n",
      "1237\n",
      "1238\n",
      "1239\n",
      "1240\n",
      "1241\n",
      "1242\n",
      "1243\n",
      "1244\n",
      "1245\n",
      "1246\n",
      "1247\n",
      "1248\n",
      "1249\n",
      "1250\n",
      "1251\n",
      "1252\n",
      "1253\n",
      "1254\n",
      "1255\n",
      "1256\n",
      "1257\n",
      "1258\n",
      "1259\n",
      "1260\n",
      "1261\n",
      "1262\n",
      "1263\n",
      "1264\n",
      "1265\n",
      "1266\n",
      "1267\n",
      "1268\n",
      "1269\n",
      "1270\n",
      "1271\n",
      "1272\n",
      "1273\n",
      "1274\n",
      "1275\n",
      "1276\n",
      "1277\n",
      "1278\n",
      "1279\n",
      "1280\n",
      "1281\n",
      "1282\n",
      "1283\n",
      "1284\n",
      "1285\n",
      "1286\n",
      "1287\n",
      "1288\n",
      "1289\n",
      "1290\n",
      "1291\n",
      "1292\n",
      "1293\n",
      "1294\n",
      "1295\n",
      "1296\n",
      "1297\n",
      "1298\n",
      "1299\n",
      "1300\n",
      "1301\n",
      "1302\n",
      "1303\n",
      "1304\n",
      "1305\n",
      "1306\n",
      "1307\n",
      "1308\n",
      "1309\n",
      "1310\n",
      "1311\n",
      "1312\n",
      "1313\n",
      "1314\n",
      "1315\n",
      "1316\n",
      "1317\n",
      "1318\n",
      "1319\n",
      "1320\n",
      "1321\n",
      "1322\n",
      "1323\n",
      "1324\n",
      "1325\n",
      "1326\n",
      "1327\n",
      "1328\n",
      "1329\n",
      "1330\n",
      "1331\n",
      "1332\n",
      "1333\n",
      "1334\n",
      "1335\n",
      "1336\n",
      "1337\n",
      "1338\n",
      "1339\n",
      "1340\n",
      "1341\n",
      "1342\n",
      "1343\n",
      "1344\n",
      "1345\n",
      "1346\n",
      "1347\n",
      "1348\n",
      "1349\n",
      "1350\n",
      "1351\n",
      "1352\n",
      "1353\n",
      "1354\n",
      "1355\n",
      "1356\n",
      "1357\n",
      "1358\n",
      "1359\n",
      "1360\n",
      "1361\n",
      "1362\n",
      "1363\n",
      "1364\n",
      "1365\n",
      "1366\n",
      "1367\n",
      "1368\n",
      "1369\n",
      "1370\n",
      "1371\n",
      "1372\n",
      "1373\n",
      "1374\n",
      "1375\n",
      "1376\n",
      "1377\n",
      "1378\n",
      "1379\n",
      "1380\n",
      "1381\n",
      "1382\n",
      "1383\n",
      "1384\n",
      "1385\n",
      "1386\n",
      "1387\n",
      "1388\n",
      "1389\n",
      "1390\n",
      "1391\n",
      "1392\n",
      "1393\n",
      "1394\n",
      "1395\n",
      "1396\n",
      "1397\n",
      "1398\n",
      "1399\n",
      "1400\n",
      "1401\n",
      "1402\n",
      "1403\n",
      "1404\n",
      "1405\n",
      "1406\n",
      "1407\n",
      "1408\n",
      "1409\n",
      "1410\n",
      "1411\n",
      "1412\n",
      "1413\n",
      "1414\n",
      "1415\n",
      "1416\n",
      "1417\n",
      "1418\n",
      "1419\n",
      "1420\n",
      "1421\n",
      "1422\n",
      "1423\n",
      "1424\n",
      "1425\n",
      "1426\n",
      "1427\n",
      "1428\n",
      "1429\n",
      "1430\n",
      "1431\n",
      "1432\n",
      "1433\n",
      "1434\n",
      "1435\n",
      "1436\n",
      "1437\n",
      "1438\n",
      "1439\n",
      "1440\n",
      "1441\n",
      "1442\n",
      "1443\n",
      "1444\n",
      "1445\n",
      "1446\n",
      "1447\n",
      "1448\n",
      "1449\n",
      "1450\n",
      "1451\n",
      "1452\n",
      "1453\n",
      "1454\n",
      "1455\n",
      "1456\n",
      "1457\n",
      "1458\n",
      "1459\n",
      "1460\n",
      "1461\n",
      "1462\n",
      "1463\n",
      "1464\n",
      "1465\n",
      "1466\n",
      "1467\n",
      "1468\n",
      "1469\n",
      "1470\n",
      "1471\n",
      "1472\n",
      "1473\n",
      "1474\n",
      "1475\n",
      "1476\n",
      "1477\n",
      "1478\n",
      "1479\n",
      "1480\n",
      "1481\n",
      "1482\n",
      "1483\n",
      "1484\n",
      "1485\n",
      "1486\n",
      "1487\n",
      "1488\n",
      "1489\n",
      "1490\n",
      "1491\n",
      "1492\n",
      "1493\n",
      "1494\n",
      "1495\n",
      "1496\n",
      "1497\n",
      "1498\n",
      "1499\n",
      "1500\n",
      "1501\n",
      "1502\n",
      "1503\n",
      "1504\n",
      "1505\n",
      "1506\n",
      "1507\n",
      "1508\n",
      "1509\n",
      "1510\n",
      "1511\n",
      "1512\n",
      "1513\n",
      "1514\n",
      "1515\n",
      "1516\n",
      "1517\n",
      "1518\n",
      "1519\n",
      "1520\n",
      "1521\n",
      "1522\n",
      "1523\n",
      "1524\n",
      "1525\n",
      "1526\n",
      "1527\n",
      "1528\n",
      "1529\n",
      "1530\n",
      "1531\n",
      "1532\n",
      "1533\n",
      "1534\n",
      "1535\n",
      "1536\n",
      "1537\n",
      "1538\n",
      "1539\n",
      "1540\n",
      "1541\n",
      "1542\n",
      "1543\n",
      "1544\n",
      "1545\n",
      "1546\n",
      "1547\n",
      "1548\n",
      "1549\n",
      "1550\n",
      "1551\n",
      "1552\n",
      "1553\n",
      "1554\n",
      "1555\n",
      "1556\n",
      "1557\n",
      "1558\n",
      "1559\n",
      "1560\n",
      "1561\n",
      "1562\n",
      "1563\n",
      "1564\n",
      "1565\n",
      "1566\n",
      "1567\n",
      "1568\n",
      "1569\n",
      "1570\n",
      "1571\n",
      "1572\n",
      "1573\n",
      "1574\n",
      "1575\n",
      "1576\n",
      "1577\n",
      "1578\n",
      "1579\n",
      "1580\n",
      "1581\n",
      "1582\n",
      "1583\n",
      "1584\n",
      "1585\n",
      "1586\n",
      "1587\n",
      "1588\n",
      "1589\n",
      "1590\n",
      "1591\n",
      "1592\n",
      "1593\n",
      "1594\n",
      "1595\n",
      "1596\n",
      "1597\n",
      "1598\n",
      "1599\n",
      "1600\n",
      "1601\n",
      "1602\n",
      "1603\n",
      "1604\n",
      "1605\n",
      "1606\n",
      "1607\n",
      "1608\n",
      "1609\n",
      "1610\n",
      "1611\n",
      "1612\n",
      "1613\n",
      "1614\n",
      "1615\n",
      "1616\n",
      "1617\n",
      "1618\n",
      "1619\n",
      "1620\n",
      "1621\n",
      "1622\n",
      "1623\n",
      "1624\n",
      "1625\n",
      "1626\n",
      "1627\n",
      "1628\n",
      "1629\n",
      "1630\n",
      "1631\n",
      "1632\n",
      "1633\n",
      "1634\n",
      "1635\n",
      "1636\n",
      "1637\n",
      "1638\n",
      "1639\n",
      "1640\n",
      "1641\n",
      "1642\n",
      "1643\n",
      "1644\n",
      "1645\n",
      "1646\n",
      "1647\n",
      "1648\n",
      "1649\n",
      "1650\n",
      "1651\n",
      "1652\n",
      "1653\n",
      "1654\n",
      "1655\n",
      "1656\n",
      "1657\n",
      "1658\n",
      "1659\n",
      "1660\n"
     ]
    }
   ],
   "source": [
    "for n in sam09:\n",
    "    test_sentence = n[0]\n",
    "    test_sent_features = {word.lower(): (word in word_tokenize(test_sentence.lower())) for word in all_words}\n",
    "    res=classifier.classify(test_sent_features)\n",
    "    if res == 'pos':\n",
    "        pos_09.append(n)\n",
    "        f.write(str(n))\n",
    "        f.write(' '+'pos'+'\\n\\n')\n",
    "        #writerf.writerow([n])\n",
    "        #f.write(n)\n",
    "    else:\n",
    "        neg_09.append(n)\n",
    "        fn.write(str(n))\n",
    "        fn.write(' '+'neg'+'\\n\\n')\n",
    "        #writerfn.writerow([n])\n",
    "    print(cnt)\n",
    "    cnt += 1"
   ]
  },
  {
   "cell_type": "code",
   "execution_count": 274,
   "metadata": {},
   "outputs": [
    {
     "data": {
      "text/plain": [
       "974"
      ]
     },
     "execution_count": 274,
     "metadata": {},
     "output_type": "execute_result"
    }
   ],
   "source": [
    "len(pos_09)"
   ]
  },
  {
   "cell_type": "code",
   "execution_count": 275,
   "metadata": {},
   "outputs": [
    {
     "data": {
      "text/plain": [
       "687"
      ]
     },
     "execution_count": 275,
     "metadata": {},
     "output_type": "execute_result"
    }
   ],
   "source": [
    "len(neg_09)"
   ]
  },
  {
   "cell_type": "code",
   "execution_count": 283,
   "metadata": {},
   "outputs": [
    {
     "data": {
      "text/plain": [
       "['This is the type of pouch recommended by TV travel hosts. Bought one for my son for trip to France; VERY HANDY and VERY HIDDEN.RECOMMEND.']"
      ]
     },
     "execution_count": 283,
     "metadata": {},
     "output_type": "execute_result"
    }
   ],
   "source": [
    "pos_09[0]"
   ]
  },
  {
   "cell_type": "code",
   "execution_count": 125,
   "metadata": {},
   "outputs": [
    {
     "data": {
      "text/plain": [
       "1925"
      ]
     },
     "execution_count": 125,
     "metadata": {},
     "output_type": "execute_result"
    }
   ],
   "source": [
    "len(pos)"
   ]
  },
  {
   "cell_type": "code",
   "execution_count": 126,
   "metadata": {},
   "outputs": [
    {
     "data": {
      "text/plain": [
       "1538"
      ]
     },
     "execution_count": 126,
     "metadata": {},
     "output_type": "execute_result"
    }
   ],
   "source": [
    "len(neg)"
   ]
  },
  {
   "cell_type": "code",
   "execution_count": 184,
   "metadata": {
    "collapsed": true
   },
   "outputs": [],
   "source": [
    "cnt=0"
   ]
  },
  {
   "cell_type": "code",
   "execution_count": 137,
   "metadata": {},
   "outputs": [
    {
     "data": {
      "text/plain": [
       "list"
      ]
     },
     "execution_count": 137,
     "metadata": {},
     "output_type": "execute_result"
    }
   ],
   "source": [
    "type(pos[0])"
   ]
  },
  {
   "cell_type": "code",
   "execution_count": 191,
   "metadata": {
    "collapsed": true
   },
   "outputs": [],
   "source": [
    "for n in range(len(neg)):\n",
    "    neg[n]= neg[n][0]"
   ]
  },
  {
   "cell_type": "code",
   "execution_count": 193,
   "metadata": {
    "collapsed": true
   },
   "outputs": [],
   "source": [
    "for n in range(len(pos)):\n",
    "    pos[n]= pos[n][0]"
   ]
  },
  {
   "cell_type": "code",
   "execution_count": 192,
   "metadata": {},
   "outputs": [
    {
     "data": {
      "text/plain": [
       "\"The first question was which computers to install this program - Rosetta Stone has a two seat minimum. I ended up putting the 2nd installation on a laptop, expecting to use the program in other locations.  However, Rosetta Stone's immersion method feels too intensive to me for use in most places away from home.  Installation was easy enough even though the program got stuck a couple of times along the way. The gear, headset with microphone, is sufficient.Pros:* For total immersion-type instruction without the benefit of communicating with other people, this seemed very good.* The voice recognition software is impressive. I was able to immediately begin speaking and progressed to the second level of difficulty fairly quickly. There are plenty of exercises and repetition, and this will surely help in many ways including pronunciation.* There are learning sessions in this software to allow speaking with native French speakers.*For me as an individual, this is a better way to learn than a formal classroom.Cons:* The limitation in the number of seats (2). This wasn't a problem for me yet it's something to know about.* Lack of matching supplemental physical material such as index cards with conjugations and grammatical rules. I feel the need for this and can source it out separately, but again I prefer to learn outside a formal classroom.* Lack of simple visuals to help with identifying grammatical patterns.\""
      ]
     },
     "execution_count": 192,
     "metadata": {},
     "output_type": "execute_result"
    }
   ],
   "source": [
    "neg[0]"
   ]
  },
  {
   "cell_type": "code",
   "execution_count": 194,
   "metadata": {},
   "outputs": [
    {
     "data": {
      "text/plain": [
       "'I really enjoy the Rosetta Stone software; it\\'s easy and fun to use.  The Rosetta Stone \"dynamic immersion\" method is different than traditional methods where you see a word in English and then see a word in the new language to memorize.  L\\'&eacute;tude du franais est r&eacute;ellement amusement et facile!'"
      ]
     },
     "execution_count": 194,
     "metadata": {},
     "output_type": "execute_result"
    }
   ],
   "source": [
    "pos[0]"
   ]
  },
  {
   "cell_type": "code",
   "execution_count": null,
   "metadata": {
    "collapsed": true
   },
   "outputs": [],
   "source": []
  },
  {
   "cell_type": "code",
   "execution_count": 185,
   "metadata": {
    "collapsed": true
   },
   "outputs": [],
   "source": [
    "new_neg =[]"
   ]
  },
  {
   "cell_type": "code",
   "execution_count": 176,
   "metadata": {
    "collapsed": true
   },
   "outputs": [],
   "source": [
    "new_pos = []"
   ]
  },
  {
   "cell_type": "code",
   "execution_count": 186,
   "metadata": {
    "collapsed": true
   },
   "outputs": [],
   "source": [
    "for n in range(len(neg)):\n",
    "    new_neg.append([])\n",
    "    new_neg[cnt].append(neg[n][0])\n",
    "    cnt += 1"
   ]
  },
  {
   "cell_type": "code",
   "execution_count": 187,
   "metadata": {},
   "outputs": [
    {
     "data": {
      "text/plain": [
       "[\"The first question was which computers to install this program - Rosetta Stone has a two seat minimum. I ended up putting the 2nd installation on a laptop, expecting to use the program in other locations.  However, Rosetta Stone's immersion method feels too intensive to me for use in most places away from home.  Installation was easy enough even though the program got stuck a couple of times along the way. The gear, headset with microphone, is sufficient.Pros:* For total immersion-type instruction without the benefit of communicating with other people, this seemed very good.* The voice recognition software is impressive. I was able to immediately begin speaking and progressed to the second level of difficulty fairly quickly. There are plenty of exercises and repetition, and this will surely help in many ways including pronunciation.* There are learning sessions in this software to allow speaking with native French speakers.*For me as an individual, this is a better way to learn than a formal classroom.Cons:* The limitation in the number of seats (2). This wasn't a problem for me yet it's something to know about.* Lack of matching supplemental physical material such as index cards with conjugations and grammatical rules. I feel the need for this and can source it out separately, but again I prefer to learn outside a formal classroom.* Lack of simple visuals to help with identifying grammatical patterns.\"]"
      ]
     },
     "execution_count": 187,
     "metadata": {},
     "output_type": "execute_result"
    }
   ],
   "source": [
    "new_neg[0]"
   ]
  },
  {
   "cell_type": "code",
   "execution_count": 188,
   "metadata": {
    "collapsed": true
   },
   "outputs": [],
   "source": [
    "for n in range(len(new_neg)):\n",
    "    new_neg[n].append(-1)"
   ]
  },
  {
   "cell_type": "code",
   "execution_count": 284,
   "metadata": {
    "collapsed": true
   },
   "outputs": [],
   "source": [
    "for n in range(len(neg_09)):\n",
    "    neg_09[n].append(-1)"
   ]
  },
  {
   "cell_type": "code",
   "execution_count": 285,
   "metadata": {
    "collapsed": true
   },
   "outputs": [],
   "source": [
    "for n in range(len(pos_09)):\n",
    "    pos_09[n].append(1)"
   ]
  },
  {
   "cell_type": "code",
   "execution_count": 287,
   "metadata": {},
   "outputs": [
    {
     "data": {
      "text/plain": [
       "['This is the type of pouch recommended by TV travel hosts. Bought one for my son for trip to France; VERY HANDY and VERY HIDDEN.RECOMMEND.',\n",
       " 1]"
      ]
     },
     "execution_count": 287,
     "metadata": {},
     "output_type": "execute_result"
    }
   ],
   "source": [
    "pos_09[0]"
   ]
  },
  {
   "cell_type": "code",
   "execution_count": 177,
   "metadata": {},
   "outputs": [],
   "source": [
    "for n in range(len(pos)):\n",
    "    new_pos.append([])\n",
    "    new_pos[cnt].append(pos[n][0])\n",
    "    cnt += 1"
   ]
  },
  {
   "cell_type": "code",
   "execution_count": 178,
   "metadata": {},
   "outputs": [
    {
     "data": {
      "text/plain": [
       "['I really enjoy the Rosetta Stone software; it\\'s easy and fun to use.  The Rosetta Stone \"dynamic immersion\" method is different than traditional methods where you see a word in English and then see a word in the new language to memorize.  L\\'&eacute;tude du franais est r&eacute;ellement amusement et facile!']"
      ]
     },
     "execution_count": 178,
     "metadata": {},
     "output_type": "execute_result"
    }
   ],
   "source": [
    "new_pos[0]"
   ]
  },
  {
   "cell_type": "code",
   "execution_count": 179,
   "metadata": {
    "collapsed": true
   },
   "outputs": [],
   "source": [
    "for n in range(len(new_pos)):\n",
    "    new_pos[n].append(1)"
   ]
  },
  {
   "cell_type": "code",
   "execution_count": 181,
   "metadata": {},
   "outputs": [
    {
     "data": {
      "text/plain": [
       "['What a releif this bra is for me.  I can run, jump rope, and perform other aerobic athletic activities without a hint of a jiggle!  This is a muist have for the active well-endowed!',\n",
       " 1]"
      ]
     },
     "execution_count": 181,
     "metadata": {},
     "output_type": "execute_result"
    }
   ],
   "source": [
    "new_pos[10]"
   ]
  },
  {
   "cell_type": "code",
   "execution_count": 195,
   "metadata": {
    "collapsed": true
   },
   "outputs": [],
   "source": [
    "Main_Data = new_pos + new_neg"
   ]
  },
  {
   "cell_type": "code",
   "execution_count": 288,
   "metadata": {
    "collapsed": true
   },
   "outputs": [],
   "source": [
    "Main_Data_09 = pos_09 + neg_09"
   ]
  },
  {
   "cell_type": "code",
   "execution_count": 296,
   "metadata": {
    "collapsed": true
   },
   "outputs": [],
   "source": [
    "Mix_Main_Data = new_pos + new_neg + pos_09 + neg_09"
   ]
  },
  {
   "cell_type": "code",
   "execution_count": 301,
   "metadata": {
    "collapsed": true
   },
   "outputs": [],
   "source": [
    "pos_sen = new_pos + pos_09"
   ]
  },
  {
   "cell_type": "code",
   "execution_count": 302,
   "metadata": {
    "collapsed": true
   },
   "outputs": [],
   "source": [
    "neg_sen = new_neg + neg_09"
   ]
  },
  {
   "cell_type": "code",
   "execution_count": 297,
   "metadata": {},
   "outputs": [
    {
     "data": {
      "text/plain": [
       "5124"
      ]
     },
     "execution_count": 297,
     "metadata": {},
     "output_type": "execute_result"
    }
   ],
   "source": [
    "len(Mix_Main_Data)"
   ]
  },
  {
   "cell_type": "code",
   "execution_count": 289,
   "metadata": {},
   "outputs": [
    {
     "data": {
      "text/plain": [
       "1661"
      ]
     },
     "execution_count": 289,
     "metadata": {},
     "output_type": "execute_result"
    }
   ],
   "source": [
    "len(Main_Data_09)"
   ]
  },
  {
   "cell_type": "code",
   "execution_count": 197,
   "metadata": {
    "collapsed": true
   },
   "outputs": [],
   "source": [
    "random.shuffle(Main_Data)"
   ]
  },
  {
   "cell_type": "code",
   "execution_count": 290,
   "metadata": {
    "collapsed": true
   },
   "outputs": [],
   "source": [
    "random.shuffle(Main_Data_09)"
   ]
  },
  {
   "cell_type": "code",
   "execution_count": 299,
   "metadata": {},
   "outputs": [],
   "source": [
    "random.shuffle(Mix_Main_Data)"
   ]
  },
  {
   "cell_type": "code",
   "execution_count": 291,
   "metadata": {},
   "outputs": [
    {
     "data": {
      "text/plain": [
       "[['These Maui Jim sunglasses are quite simply the best!  They look sharp, and the polarized lenses are ideal for boating or driving.  I took my boat out and while out in the ocean caught a fogbank.  The polarized Maui Jims really did help me to see through the fog and glare.  I never put to sea without my Maui Jims.  These are great for driving too.  Plus they just look darned sharp.  RJB.',\n",
       "  1],\n",
       " [\"i purchased the first pair in the gold.  i found i could walk forever in these shoes.  at 70 yrs. that is saying a lot.  so then i just bought this pair in black.  great price too.  my friends are buying them online as well.  the only problem is getting all the colors in your size but everyone is patient.  i think the next might be brown or beige or white.  i am going to take them with me when going on a trip. they are easy to remove at the airport going to security which is a problem with some shoes at my age.  love them.  i shouldn't write this because everyone will buy the shoes.  that's okay.  enjoy them as much as i do.\",\n",
       "  -1],\n",
       " ['These socks were shipped free of charge and were a great value.  These Hanes Crews have just the right amount of elastic in the ankle area so they are not too tight and not too loose. Very comfortable.',\n",
       "  1],\n",
       " ['I gave up on my 30-yr. old Cartier watch when the cost of repairs became too much, but love the style and have been searching for an inexpensive replacement.  Well, this watch is it, even to the fake sapphire on the winding stem - plus I don\\'t have to wind this one!The face of this watch is about 5/8-in. wide x 3/4\" high, a nice size for anyone who is looking for a watch that fits nicely on the wrist without being overpowering.  It\\'s water resistant and the movement is Japan-made.  I\\'ve had it for several months, now, and it has kept perfect time without resetting even once.The band is labeled \"Calf\" and is thick enough for me to know it won\\'t wear out quickly; it\\'s made in China, though, for those of you for whom that matters.  It has 7 holes and should fit most wrists; measured, it\\'ll fit a 5-3/8\" wrist up to a 6-3/4\" one.Very happy with this purchase!  I don\\'t need the bells and whistles of dates/alarms/etc. and this watch fits the bill perfectly.',\n",
       "  -1],\n",
       " ['these are nice warm gloves that fit well, if you have big hands I would not recommend them,  They are nice and soft as well not itchy like some others.',\n",
       "  -1]]"
      ]
     },
     "execution_count": 291,
     "metadata": {},
     "output_type": "execute_result"
    }
   ],
   "source": [
    "Main_Data_09[:5]"
   ]
  },
  {
   "cell_type": "code",
   "execution_count": 292,
   "metadata": {
    "collapsed": true
   },
   "outputs": [],
   "source": [
    "with open('/Users/rishi/Desktop/data_pos_sen_09.csv', 'w') as f:\n",
    "    writer = csv.writer(f)\n",
    "    writer.writerow(['pos','sentiment'])\n",
    "    for val in pos_09:\n",
    "        writer.writerow([val[0],val[1]])"
   ]
  },
  {
   "cell_type": "code",
   "execution_count": 295,
   "metadata": {
    "collapsed": true
   },
   "outputs": [],
   "source": [
    "with open('/Users/rishi/Desktop/data_neg_sen_09.csv', 'w') as f:\n",
    "    writer = csv.writer(f)\n",
    "    writer.writerow(['neg','sentiment'])\n",
    "    for val in neg_09:\n",
    "        writer.writerow([val[0],val[1]])"
   ]
  },
  {
   "cell_type": "code",
   "execution_count": 294,
   "metadata": {
    "collapsed": true
   },
   "outputs": [],
   "source": [
    "with open('/Users/rishi/Desktop/Main_Data_sen_09.csv', 'w') as f:\n",
    "    writer = csv.writer(f)\n",
    "    writer.writerow(['phrase','sentiment'])\n",
    "    for val in Main_Data_09:\n",
    "        writer.writerow([val[0],val[1]])"
   ]
  },
  {
   "cell_type": "code",
   "execution_count": 300,
   "metadata": {
    "collapsed": true
   },
   "outputs": [],
   "source": [
    "with open('/Users/rishi/Desktop/Main_Data.csv', 'w') as f:\n",
    "    writer = csv.writer(f)\n",
    "    writer.writerow(['phrase','sentiment'])\n",
    "    for val in Mix_Main_Data:\n",
    "        writer.writerow([val[0],val[1]])"
   ]
  },
  {
   "cell_type": "code",
   "execution_count": 165,
   "metadata": {},
   "outputs": [
    {
     "data": {
      "text/plain": [
       "\"The first question was which computers to install this program - Rosetta Stone has a two seat minimum. I ended up putting the 2nd installation on a laptop, expecting to use the program in other locations.  However, Rosetta Stone's immersion method feels too intensive to me for use in most places away from home.  Installation was easy enough even though the program got stuck a couple of times along the way. The gear, headset with microphone, is sufficient.Pros:* For total immersion-type instruction without the benefit of communicating with other people, this seemed very good.* The voice recognition software is impressive. I was able to immediately begin speaking and progressed to the second level of difficulty fairly quickly. There are plenty of exercises and repetition, and this will surely help in many ways including pronunciation.* There are learning sessions in this software to allow speaking with native French speakers.*For me as an individual, this is a better way to learn than a formal classroom.Cons:* The limitation in the number of seats (2). This wasn't a problem for me yet it's something to know about.* Lack of matching supplemental physical material such as index cards with conjugations and grammatical rules. I feel the need for this and can source it out separately, but again I prefer to learn outside a formal classroom.* Lack of simple visuals to help with identifying grammatical patterns.\""
      ]
     },
     "execution_count": 165,
     "metadata": {},
     "output_type": "execute_result"
    }
   ],
   "source": [
    "neg[0][0]"
   ]
  },
  {
   "cell_type": "code",
   "execution_count": 152,
   "metadata": {
    "collapsed": true
   },
   "outputs": [],
   "source": [
    "mod_pos = pos"
   ]
  },
  {
   "cell_type": "code",
   "execution_count": 157,
   "metadata": {
    "collapsed": true
   },
   "outputs": [],
   "source": [
    "mod_neg = neg"
   ]
  },
  {
   "cell_type": "code",
   "execution_count": 154,
   "metadata": {},
   "outputs": [],
   "source": [
    "for n in range(len(mod_pos)):\n",
    "    mod_pos[n].append(1)"
   ]
  },
  {
   "cell_type": "code",
   "execution_count": 141,
   "metadata": {
    "collapsed": true
   },
   "outputs": [],
   "source": [
    "cnt = 0"
   ]
  },
  {
   "cell_type": "code",
   "execution_count": 148,
   "metadata": {},
   "outputs": [
    {
     "data": {
      "text/plain": [
       "1538"
      ]
     },
     "execution_count": 148,
     "metadata": {},
     "output_type": "execute_result"
    }
   ],
   "source": [
    "len(mod_neg)"
   ]
  },
  {
   "cell_type": "code",
   "execution_count": 214,
   "metadata": {},
   "outputs": [],
   "source": [
    "f = open('/Users/rishi/Desktop/NLP_HW4 Files/Year 2010/Main_Data_sen.csv', 'r')\n",
    "  # loop over lines in the file and use the first limit of them\n",
    "phrasedata = []\n",
    "cnt = 0\n",
    "for line in f:\n",
    "    \n",
    "    # ignore the first line starting with Phrase and read all lines\n",
    "    if (not line.startswith('phrase')):\n",
    "        \n",
    "      # remove final end of line character\n",
    "        line = line.strip()\n",
    "        phrasedata.append([])\n",
    "      # each line has 4 items separated by tabs\n",
    "      # ignore the phrase and sentence ids, and keep the phrase and sentiment\n",
    "        phrasedata[cnt].append(line.split('\\t')[0])\n",
    "        #phrasedata[cnt].append(line.split('\\t')[1])\n",
    "        cnt += 1"
   ]
  },
  {
   "cell_type": "code",
   "execution_count": 217,
   "metadata": {},
   "outputs": [
    {
     "data": {
      "text/plain": [
       "'\"'"
      ]
     },
     "execution_count": 217,
     "metadata": {},
     "output_type": "execute_result"
    }
   ],
   "source": [
    "phrasedata[0][0]"
   ]
  },
  {
   "cell_type": "code",
   "execution_count": 203,
   "metadata": {},
   "outputs": [
    {
     "data": {
      "text/plain": [
       "3463"
      ]
     },
     "execution_count": 203,
     "metadata": {},
     "output_type": "execute_result"
    }
   ],
   "source": [
    "len(phrasedata)"
   ]
  },
  {
   "cell_type": "code",
   "execution_count": null,
   "metadata": {
    "collapsed": true
   },
   "outputs": [],
   "source": [
    "csvdic = {}"
   ]
  },
  {
   "cell_type": "code",
   "execution_count": 218,
   "metadata": {
    "collapsed": true
   },
   "outputs": [],
   "source": [
    "with open('/Users/rishi/Desktop/NLP_HW4 Files/Year 2009/Main_Data_sen_09.csv', 'r') as fin:\n",
    "    csvin = csv.reader(fin)\n",
    "    header = next(csvin, [])\n",
    "    csvdic = dict(zip(header, zip(*csvin)))"
   ]
  },
  {
   "cell_type": "code",
   "execution_count": 233,
   "metadata": {},
   "outputs": [
    {
     "ename": "SyntaxError",
     "evalue": "unexpected EOF while parsing (<ipython-input-233-03118c85fe76>, line 1)",
     "output_type": "error",
     "traceback": [
      "\u001b[0;36m  File \u001b[0;32m\"<ipython-input-233-03118c85fe76>\"\u001b[0;36m, line \u001b[0;32m1\u001b[0m\n\u001b[0;31m    csvdic['phrase'] = list(csvdic['phrase']\u001b[0m\n\u001b[0m                                            ^\u001b[0m\n\u001b[0;31mSyntaxError\u001b[0m\u001b[0;31m:\u001b[0m unexpected EOF while parsing\n"
     ]
    }
   ],
   "source": [
    "csvdic['phrase'] = list(csvdic['phrase']"
   ]
  },
  {
   "cell_type": "code",
   "execution_count": 236,
   "metadata": {},
   "outputs": [],
   "source": [
    "phrase = list(csvdic['phrase'])"
   ]
  },
  {
   "cell_type": "code",
   "execution_count": 238,
   "metadata": {
    "collapsed": true
   },
   "outputs": [],
   "source": [
    "senti = list(csvdic['sentiment'])"
   ]
  },
  {
   "cell_type": "code",
   "execution_count": 237,
   "metadata": {},
   "outputs": [
    {
     "data": {
      "text/plain": [
       "\"My son is enjoying this pistol quite a bit.  It's fairly heavy and seems well made.  My only negative comment at this point is that the ring caps are difficult to remove once they've been shot.  They seem to get stuck and we need to use a sharp, pointed object every time we remove the ring of caps.  The cap rings sure were overpriced!\""
      ]
     },
     "execution_count": 237,
     "metadata": {},
     "output_type": "execute_result"
    }
   ],
   "source": [
    "phrase[0]"
   ]
  },
  {
   "cell_type": "code",
   "execution_count": 239,
   "metadata": {},
   "outputs": [
    {
     "data": {
      "text/plain": [
       "'1'"
      ]
     },
     "execution_count": 239,
     "metadata": {},
     "output_type": "execute_result"
    }
   ],
   "source": [
    "senti[0]"
   ]
  },
  {
   "cell_type": "code",
   "execution_count": 242,
   "metadata": {
    "collapsed": true
   },
   "outputs": [],
   "source": [
    "cnt = 0"
   ]
  },
  {
   "cell_type": "code",
   "execution_count": 243,
   "metadata": {
    "collapsed": true
   },
   "outputs": [],
   "source": [
    "phrasedata = []"
   ]
  },
  {
   "cell_type": "code",
   "execution_count": 244,
   "metadata": {},
   "outputs": [],
   "source": [
    "for i in phrase:\n",
    "    phrasedata.append([])\n",
    "    phrasedata[cnt].append(i)\n",
    "    phrasedata[cnt].append(senti[cnt])\n",
    "    cnt += 1"
   ]
  },
  {
   "cell_type": "code",
   "execution_count": 246,
   "metadata": {},
   "outputs": [
    {
     "data": {
      "text/plain": [
       "\"My son is enjoying this pistol quite a bit.  It's fairly heavy and seems well made.  My only negative comment at this point is that the ring caps are difficult to remove once they've been shot.  They seem to get stuck and we need to use a sharp, pointed object every time we remove the ring of caps.  The cap rings sure were overpriced!\""
      ]
     },
     "execution_count": 246,
     "metadata": {},
     "output_type": "execute_result"
    }
   ],
   "source": [
    "phrasedata[0][0]"
   ]
  },
  {
   "cell_type": "code",
   "execution_count": 247,
   "metadata": {},
   "outputs": [
    {
     "data": {
      "text/plain": [
       "3463"
      ]
     },
     "execution_count": 247,
     "metadata": {},
     "output_type": "execute_result"
    }
   ],
   "source": [
    "len(phrasedata)"
   ]
  },
  {
   "cell_type": "code",
   "execution_count": 276,
   "metadata": {},
   "outputs": [
    {
     "data": {
      "text/plain": [
       "1925"
      ]
     },
     "execution_count": 276,
     "metadata": {},
     "output_type": "execute_result"
    }
   ],
   "source": [
    "len(pos)"
   ]
  },
  {
   "cell_type": "code",
   "execution_count": 277,
   "metadata": {},
   "outputs": [
    {
     "data": {
      "text/plain": [
       "1538"
      ]
     },
     "execution_count": 277,
     "metadata": {},
     "output_type": "execute_result"
    }
   ],
   "source": [
    "len(neg)"
   ]
  },
  {
   "cell_type": "code",
   "execution_count": 280,
   "metadata": {},
   "outputs": [
    {
     "data": {
      "image/png": "[encoded data removed]",
      "text/plain": [
       "<matplotlib.figure.Figure at 0x1b8f4b6208>"
      ]
     },
     "metadata": {},
     "output_type": "display_data"
    }
   ],
   "source": [
    "import matplotlib.pyplot as plt\n",
    " \n",
    "# Data to plot\n",
    "labels = 'positive', 'Negative'\n",
    "sizes = [len(pos),len(neg)]\n",
    "colors = ['yellowgreen', 'lightskyblue']\n",
    "explode = (0.1, 0)  # explode 1st slice\n",
    " \n",
    "# Plot\n",
    "plt.pie(sizes, explode=explode, labels=labels, colors=colors,\n",
    "        autopct='%1.1f%%', shadow=True, startangle=140)\n",
    "plt.title('Reviews of 2010')\n",
    " \n",
    "plt.axis('equal')\n",
    "plt.show()"
   ]
  },
  {
   "cell_type": "code",
   "execution_count": 281,
   "metadata": {},
   "outputs": [
    {
     "data": {
      "image/png": "[encoded data removed]",
      "text/plain": [
       "<matplotlib.figure.Figure at 0x1b8f615cf8>"
      ]
     },
     "metadata": {},
     "output_type": "display_data"
    }
   ],
   "source": [
    "import matplotlib.pyplot as plt\n",
    " \n",
    "# Data to plot\n",
    "labels = 'positive', 'Negative'\n",
    "sizes = [len(pos_09),len(neg_09)]\n",
    "colors = ['blue', 'red']\n",
    "explode = (0.1, 0)  # explode 1st slice\n",
    " \n",
    "# Plot\n",
    "plt.pie(sizes, explode=explode, labels=labels, colors=colors,\n",
    "        autopct='%1.1f%%', shadow=True, startangle=140)\n",
    "plt.title('Reviews of 2009')\n",
    " \n",
    "plt.axis('equal')\n",
    "plt.show()"
   ]
  },
  {
   "cell_type": "code",
   "execution_count": 304,
   "metadata": {},
   "outputs": [
    {
     "data": {
      "image/png": "[encoded data removed]",
      "text/plain": [
       "<matplotlib.figure.Figure at 0x1b8f73f518>"
      ]
     },
     "metadata": {},
     "output_type": "display_data"
    }
   ],
   "source": [
    "import matplotlib.pyplot as plt\n",
    " \n",
    "# Data to plot\n",
    "labels = 'positive', 'Negative'\n",
    "sizes = [len(pos_sen),len(neg_sen)]\n",
    "colors = ['brown', 'green']\n",
    "explode = (0.1, 0)  # explode 1st slice\n",
    " \n",
    "# Plot\n",
    "plt.pie(sizes, explode=explode, labels=labels, colors=colors,\n",
    "        autopct='%1.1f%%', shadow=True, startangle=140)\n",
    "plt.title('2009 and 2010 Reviews Combined')\n",
    " \n",
    "plt.axis('equal')\n",
    "plt.show()"
   ]
  },
  {
   "cell_type": "code",
   "execution_count": null,
   "metadata": {
    "collapsed": true
   },
   "outputs": [],
   "source": []
  }
 ],
 "metadata": {
  "kernelspec": {
   "display_name": "Python 3",
   "language": "python",
   "name": "python3"
  },
  "language_info": {
   "codemirror_mode": {
    "name": "ipython",
    "version": 3
   },
   "file_extension": ".py",
   "mimetype": "text/x-python",
   "name": "python",
   "nbconvert_exporter": "python",
   "pygments_lexer": "ipython3",
   "version": "3.6.3"
  }
 },
 "nbformat": 4,
 "nbformat_minor": 2
}
